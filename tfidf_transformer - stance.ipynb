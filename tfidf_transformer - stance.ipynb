{
 "cells": [
  {
   "cell_type": "code",
   "execution_count": 19,
   "metadata": {},
   "outputs": [],
   "source": [
    "import pandas as pd\n",
    "import re\n",
    "import numpy as np\n",
    "import string\n",
    "from nltk.corpus import stopwords\n",
    "from nltk.tokenize import TweetTokenizer\n",
    "from preprocssing import preprocessDF \n",
    "from sklearn.feature_extraction.text import TfidfTransformer\n",
    "from sklearn.feature_extraction.text import CountVectorizer, TfidfVectorizer\n",
    "from sklearn.pipeline import Pipeline\n",
    "from sklearn.ensemble import RandomForestClassifier,AdaBoostClassifier\n",
    "from sklearn.neighbors import KNeighborsClassifier\n",
    "from sklearn.svm import LinearSVC,SVC\n",
    "from sklearn import metrics\n",
    "from sklearn.metrics import f1_score"
   ]
  },
  {
   "cell_type": "code",
   "execution_count": 4,
   "metadata": {},
   "outputs": [],
   "source": [
    "#preprocessing on training data set\n",
    "train_tokens = []\n",
    "train_labels = []\n",
    "train_tokens, train_labels =preprocessDF('./dataset/train.csv', 'train')\n"
   ]
  },
  {
   "cell_type": "code",
   "execution_count": 5,
   "metadata": {},
   "outputs": [],
   "source": [
    "# store tweets after preprocessing in data frame to extract tweets and labels\n",
    "df_train_processed= pd.read_csv(\"train_processed.csv\")\n",
    "train_tweets = df_train_processed['text'].values\n",
    "train_labels= df_train_processed['stance'].values\n",
    "#extract vocabulary from training set\n",
    "vocab =set()\n",
    "#vocab=list(get_vocab(train_tokens))\n",
    "N = len(train_tweets)# no of tweets= 6988\n",
    "#V = len(vocab) # no of unique words= 26843\n",
    "\n"
   ]
  },
  {
   "attachments": {},
   "cell_type": "markdown",
   "metadata": {},
   "source": [
    "# Train and Validation \n"
   ]
  },
  {
   "cell_type": "code",
   "execution_count": 6,
   "metadata": {},
   "outputs": [
    {
     "name": "stdout",
     "output_type": "stream",
     "text": [
      "1000\n"
     ]
    }
   ],
   "source": [
    "# VALIDATION DATA PREPROCESSING\n",
    "val_tokens = []\n",
    "val_labels = []\n",
    "val_tokens, val_labels =preprocessDF('./dataset/dev.csv','val')\n",
    "df_val_processed= pd.read_csv(\"val_processed.csv\")\n",
    "val_tweets = df_val_processed['text'].values\n",
    "val_labels= df_val_processed['stance'].values\n",
    "print(len(val_tweets))"
   ]
  },
  {
   "cell_type": "code",
   "execution_count": 7,
   "metadata": {},
   "outputs": [],
   "source": [
    "vectorizer = TfidfVectorizer()\n",
    "X = vectorizer.fit(train_tweets)#mode\n",
    "train_TFIDF=X.transform(train_tweets)\n",
    "val_TFIDF=X.transform(val_tweets)"
   ]
  },
  {
   "cell_type": "code",
   "execution_count": 8,
   "metadata": {},
   "outputs": [
    {
     "name": "stdout",
     "output_type": "stream",
     "text": [
      "(6988, 26820)\n",
      "(1000, 26820)\n"
     ]
    }
   ],
   "source": [
    "print(train_TFIDF.shape)\n",
    "print(val_TFIDF.shape)"
   ]
  },
  {
   "cell_type": "code",
   "execution_count": null,
   "metadata": {},
   "outputs": [],
   "source": [
    "with open('tfidf-stance-train.npy', 'wb') as f:\n",
    "    np.save(f, train_TFIDF)\n",
    "f.close()  \n",
    "   "
   ]
  },
  {
   "cell_type": "code",
   "execution_count": 30,
   "metadata": {},
   "outputs": [
    {
     "name": "stdout",
     "output_type": "stream",
     "text": [
      "Accuracy: 79.0 %\n",
      "F-score micro avg 0.79\n",
      "F-score macro avg 0.5314843886272458\n",
      "F-score weighted avg 0.7819389499389501\n"
     ]
    },
    {
     "name": "stderr",
     "output_type": "stream",
     "text": [
      "c:\\Users\\dell\\AppData\\Local\\Programs\\Python\\Python38-32\\lib\\site-packages\\sklearn\\svm\\_base.py:1206: ConvergenceWarning: Liblinear failed to converge, increase the number of iterations.\n",
      "  warnings.warn(\n"
     ]
    }
   ],
   "source": [
    "clf=LinearSVC(C=50.0, random_state=42)\n",
    "clf.fit(train_TFIDF,train_labels )\n",
    "Y_Predicted=clf.predict(val_TFIDF)\n",
    "print(\"Accuracy:\",metrics.accuracy_score(val_labels, Y_Predicted)*100,\"%\")\n",
    "print(\"F-score micro avg\", f1_score(val_labels ,Y_Predicted,average='micro' ))\n",
    "print(\"F-score macro avg\", f1_score(val_labels ,Y_Predicted,average='macro' ))\n",
    "print(\"F-score weighted avg\", f1_score(val_labels ,Y_Predicted,average='weighted' ))"
   ]
  },
  {
   "cell_type": "code",
   "execution_count": null,
   "metadata": {},
   "outputs": [],
   "source": []
  },
  {
   "cell_type": "code",
   "execution_count": 33,
   "metadata": {},
   "outputs": [
    {
     "name": "stdout",
     "output_type": "stream",
     "text": [
      "Accuracy: 79.0 %\n",
      "F-score micro avg 0.79\n",
      "F-score macro avg 0.4229486013557529\n",
      "F-score weighted avg 0.7473629744006501\n"
     ]
    }
   ],
   "source": [
    "clf=AdaBoostClassifier(n_estimators=370)\n",
    "clf.fit(train_TFIDF,train_labels)\n",
    "Y_Predicted=clf.predict(val_TFIDF)\n",
    "print(\"Accuracy:\",metrics.accuracy_score(val_labels, Y_Predicted)*100,\"%\")\n",
    "print(\"F-score micro avg\", f1_score(val_labels ,Y_Predicted,average='micro' ))\n",
    "print(\"F-score macro avg\", f1_score(val_labels ,Y_Predicted,average='macro' ))\n",
    "print(\"F-score weighted avg\", f1_score(val_labels ,Y_Predicted,average='weighted' ))"
   ]
  },
  {
   "cell_type": "code",
   "execution_count": 31,
   "metadata": {},
   "outputs": [
    {
     "name": "stdout",
     "output_type": "stream",
     "text": [
      "Accuracy: 82.0 %\n",
      "F-score micro avg 0.82\n",
      "F-score macro avg 0.4728323721718322\n",
      "F-score weighted avg 0.7773782750850529\n"
     ]
    }
   ],
   "source": [
    "clf=SVC(C=500.0, random_state=42)\n",
    "clf.fit(train_TFIDF,train_labels )\n",
    "Y_Predicted=clf.predict(val_TFIDF)\n",
    "print(\"Accuracy:\",metrics.accuracy_score(val_labels, Y_Predicted)*100,\"%\")\n",
    "print(\"F-score micro avg\", f1_score(val_labels ,Y_Predicted,average='micro' ))\n",
    "print(\"F-score macro avg\", f1_score(val_labels ,Y_Predicted,average='macro' ))\n",
    "print(\"F-score weighted avg\", f1_score(val_labels ,Y_Predicted,average='weighted' ))\n"
   ]
  },
  {
   "cell_type": "code",
   "execution_count": 32,
   "metadata": {},
   "outputs": [
    {
     "name": "stdout",
     "output_type": "stream",
     "text": [
      "Accuracy: 79.0 %\n",
      "F-score micro avg 0.79\n",
      "F-score macro avg 0.5314843886272458\n",
      "F-score weighted avg 0.7819389499389501\n"
     ]
    },
    {
     "name": "stderr",
     "output_type": "stream",
     "text": [
      "c:\\Users\\dell\\AppData\\Local\\Programs\\Python\\Python38-32\\lib\\site-packages\\sklearn\\svm\\_base.py:1206: ConvergenceWarning: Liblinear failed to converge, increase the number of iterations.\n",
      "  warnings.warn(\n"
     ]
    }
   ],
   "source": [
    "clf=LinearSVC(C=50.0, random_state=42)\n",
    "clf.fit(train_TFIDF,train_labels )\n",
    "Y_Predicted=clf.predict(val_TFIDF)\n",
    "print(\"Accuracy:\",metrics.accuracy_score(val_labels, Y_Predicted)*100,\"%\")\n",
    "print(\"F-score micro avg\", f1_score(val_labels ,Y_Predicted,average='micro' ))\n",
    "print(\"F-score macro avg\", f1_score(val_labels ,Y_Predicted,average='macro' ))\n",
    "print(\"F-score weighted avg\", f1_score(val_labels ,Y_Predicted,average='weighted' ))"
   ]
  },
  {
   "cell_type": "code",
   "execution_count": 34,
   "metadata": {},
   "outputs": [
    {
     "name": "stdout",
     "output_type": "stream",
     "text": [
      "Accuracy: 81.89999999999999 %\n",
      "F-score micro avg 0.819\n",
      "F-score macro avg 0.446023906027919\n",
      "F-score weighted avg 0.7671875579525314\n"
     ]
    }
   ],
   "source": [
    "clf=RandomForestClassifier(n_estimators=2500)\n",
    "clf.fit(train_TFIDF,train_labels)\n",
    "Y_Predicted=clf.predict(val_TFIDF)\n",
    "print(\"Accuracy:\",metrics.accuracy_score(val_labels, Y_Predicted)*100,\"%\")\n",
    "print(\"F-score micro avg\", f1_score(val_labels ,Y_Predicted,average='micro' ))\n",
    "print(\"F-score macro avg\", f1_score(val_labels ,Y_Predicted,average='macro' ))\n",
    "print(\"F-score weighted avg\", f1_score(val_labels ,Y_Predicted,average='weighted' ))"
   ]
  },
  {
   "cell_type": "code",
   "execution_count": 18,
   "metadata": {},
   "outputs": [],
   "source": [
    "\n"
   ]
  },
  {
   "cell_type": "code",
   "execution_count": null,
   "metadata": {},
   "outputs": [],
   "source": []
  }
 ],
 "metadata": {
  "kernelspec": {
   "display_name": "Python 3",
   "language": "python",
   "name": "python3"
  },
  "language_info": {
   "codemirror_mode": {
    "name": "ipython",
    "version": 3
   },
   "file_extension": ".py",
   "mimetype": "text/x-python",
   "name": "python",
   "nbconvert_exporter": "python",
   "pygments_lexer": "ipython3",
   "version": "3.8.2"
  },
  "orig_nbformat": 4,
  "vscode": {
   "interpreter": {
    "hash": "cad911e89c9cd81e6830ed7e3dceb0d7faa858acac22c42d691ca01e2d61a3cf"
   }
  }
 },
 "nbformat": 4,
 "nbformat_minor": 2
}
