{
 "cells": [
  {
   "cell_type": "code",
   "execution_count": null,
   "metadata": {},
   "outputs": [],
   "source": [
    "import torch as t\n",
    "import numpy as np\n",
    "import preprocessing\n",
    "from RNN.classifier import RnnTweetsClassifier, LSTMTweetsClassifier\n",
    "from RNN.tweets_dataset import StancesDataset, CategoriesDataset\n",
    "from torch.utils.data import DataLoader, Dataset\n",
    "from sklearn.metrics import precision_score, f1_score, recall_score, accuracy_score\n",
    "from sklearn.metrics import classification_report"
   ]
  },
  {
   "cell_type": "code",
   "execution_count": null,
   "metadata": {},
   "outputs": [],
   "source": [
    "# load the dataset and dataloader, train using rnn classifier\n",
    "dataset = StancesDataset('./dataset/train.csv', 'train')\n",
    "tweet_classifier = RnnTweetsClassifier(dataset, 50, 50, 3, 3, 10, 0.001)"
   ]
  },
  {
   "cell_type": "code",
   "execution_count": null,
   "metadata": {},
   "outputs": [],
   "source": [
    "# train the stances model\n",
    "tweet_classifier.train()"
   ]
  },
  {
   "cell_type": "code",
   "execution_count": null,
   "metadata": {},
   "outputs": [],
   "source": [
    "testset = StancesDataset('./dataset/dev.csv', 'test')\n",
    "testloader = DataLoader(dataset=testset, batch_size=256, shuffle=True)"
   ]
  },
  {
   "cell_type": "code",
   "execution_count": null,
   "metadata": {},
   "outputs": [],
   "source": [
    "predicted, labels = tweet_classifier.predict(testloader)\n",
    "print(classification_report(labels, predicted))"
   ]
  },
  {
   "cell_type": "code",
   "execution_count": null,
   "metadata": {},
   "outputs": [],
   "source": [
    "# load the dataset and dataloader\n",
    "categories_dataset = CategoriesDataset('./dataset/train.csv', 'train')\n",
    "gategories_classifier = RnnTweetsClassifier(categories_dataset, 50, 50, 3, 10, 10, 0.001)"
   ]
  },
  {
   "cell_type": "code",
   "execution_count": null,
   "metadata": {},
   "outputs": [],
   "source": [
    "gategories_classifier.train()"
   ]
  },
  {
   "cell_type": "code",
   "execution_count": null,
   "metadata": {},
   "outputs": [],
   "source": [
    "categories_testset = CategoriesDataset('./dataset/dev.csv', 'test')\n",
    "categories_testloader = DataLoader(dataset=categories_testset, batch_size=256, shuffle=True)"
   ]
  },
  {
   "cell_type": "code",
   "execution_count": null,
   "metadata": {},
   "outputs": [],
   "source": [
    "predicted, labels = gategories_classifier.predict(categories_testloader)\n",
    "print(classification_report(labels, predicted))"
   ]
  },
  {
   "cell_type": "code",
   "execution_count": null,
   "metadata": {},
   "outputs": [],
   "source": []
  }
 ],
 "metadata": {
  "kernelspec": {
   "display_name": "Python 3",
   "language": "python",
   "name": "python3"
  },
  "language_info": {
   "codemirror_mode": {
    "name": "ipython",
    "version": 3
   },
   "file_extension": ".py",
   "mimetype": "text/x-python",
   "name": "python",
   "nbconvert_exporter": "python",
   "pygments_lexer": "ipython3",
   "version": "3.10.2"
  },
  "orig_nbformat": 4,
  "vscode": {
   "interpreter": {
    "hash": "2ce1aa5045122ce61d81150741fc545f0705456a83bb0ce116eee68d33a445e8"
   }
  }
 },
 "nbformat": 4,
 "nbformat_minor": 2
}
