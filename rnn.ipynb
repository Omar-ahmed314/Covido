{
 "cells": [
  {
   "cell_type": "code",
   "execution_count": null,
   "metadata": {},
   "outputs": [],
   "source": [
    "import torch as t\n",
    "import numpy as np\n",
    "import pandas as pd\n",
    "import preprocessing\n",
    "from RNN.classifier import RnnTweetsClassifier, LSTMTweetsClassifier\n",
    "from RNN.tweets_dataset import StancesDataset, CategoriesDataset\n",
    "from torch.utils.data import DataLoader, Dataset\n",
    "from sklearn.metrics import precision_score, f1_score, recall_score, accuracy_score\n",
    "from sklearn.metrics import classification_report"
   ]
  },
  {
   "cell_type": "code",
   "execution_count": null,
   "metadata": {},
   "outputs": [],
   "source": [
    "# load the dataset and dataloader, train using rnn classifier\n",
    "dataset = StancesDataset('./dataset/train.csv', 'train')\n",
    "tweet_classifier = RnnTweetsClassifier(dataset, 50, 50, 2, 3, 120, 0.001)"
   ]
  },
  {
   "cell_type": "code",
   "execution_count": null,
   "metadata": {},
   "outputs": [],
   "source": [
    "# train the stances model\n",
    "tweet_classifier.train()"
   ]
  },
  {
   "cell_type": "code",
   "execution_count": null,
   "metadata": {},
   "outputs": [],
   "source": [
    "testset = StancesDataset('./dataset/dev.csv', 'test')\n",
    "testloader = DataLoader(dataset=testset, batch_size=256)"
   ]
  },
  {
   "cell_type": "code",
   "execution_count": null,
   "metadata": {},
   "outputs": [],
   "source": [
    "predicted, labels = tweet_classifier.predict(testloader)\n",
    "print(classification_report(labels, predicted))"
   ]
  },
  {
   "cell_type": "code",
   "execution_count": null,
   "metadata": {},
   "outputs": [],
   "source": [
    "# load the dataset and dataloader\n",
    "categories_dataset = CategoriesDataset('./dataset/train.csv', 'train')\n",
    "gategories_classifier = RnnTweetsClassifier(categories_dataset, 50, 50, 2, 10, 120, 0.001)"
   ]
  },
  {
   "cell_type": "code",
   "execution_count": null,
   "metadata": {},
   "outputs": [],
   "source": [
    "gategories_classifier.train()"
   ]
  },
  {
   "cell_type": "code",
   "execution_count": null,
   "metadata": {},
   "outputs": [],
   "source": [
    "categories_testset = CategoriesDataset('./dataset/dev.csv', 'test')\n",
    "categories_testloader = DataLoader(dataset=categories_testset, batch_size=256)"
   ]
  },
  {
   "cell_type": "code",
   "execution_count": null,
   "metadata": {},
   "outputs": [],
   "source": [
    "predicted, labels = gategories_classifier.predict(categories_testloader)\n",
    "print(classification_report(labels, predicted))"
   ]
  },
  {
   "cell_type": "code",
   "execution_count": null,
   "metadata": {},
   "outputs": [],
   "source": [
    "# edit the test csv file\n",
    "test_file = pd.read_csv('dataset/test.csv')\n",
    "if test_file['category'].empty:\n",
    "    test_file['category'] = ['info'] * len(test_file)\n",
    "if test_file['stance'].empty:\n",
    "    test_file['stance'] = [0] * len(test_file)\n",
    "test_file.to_csv('dataset/test.csv')"
   ]
  },
  {
   "cell_type": "code",
   "execution_count": null,
   "metadata": {},
   "outputs": [],
   "source": [
    "# load the testset\n",
    "stances_test_set = StancesDataset('dataset/test.csv', 'test')\n",
    "categories_test_set = CategoriesDataset('dataset/test.csv', 'test')\n",
    "stances_test_set_loader = DataLoader(stances_test_set, batch_size=256)\n",
    "categories_test_set_loader = DataLoader(categories_test_set, batch_size=256)"
   ]
  },
  {
   "cell_type": "code",
   "execution_count": null,
   "metadata": {},
   "outputs": [],
   "source": [
    "# testing the data loader\n",
    "predicted_stances, _ = tweet_classifier.predict(stances_test_set_loader)\n",
    "predicted_categories, _ = gategories_classifier.predict(categories_test_set_loader)"
   ]
  },
  {
   "cell_type": "code",
   "execution_count": null,
   "metadata": {},
   "outputs": [],
   "source": [
    "# map  the categories\n",
    "categoriesMap = {\n",
    "    0: 'info_news',\n",
    "    1: 'celebrity',\n",
    "    2: 'plan',\n",
    "    3: 'requests',\n",
    "    4: 'rumors',\n",
    "    5: 'advice',\n",
    "    6: 'restrictions',\n",
    "    7: 'personal',\n",
    "    8: 'unrelated',\n",
    "    9: 'others'\n",
    "}\n",
    "predicted_stances = list(map(lambda x: -1 if x == 2 else int(x), predicted_stances))\n",
    "predicted_categories = list(map(lambda x: categoriesMap[int(x)], predicted_categories))"
   ]
  },
  {
   "cell_type": "code",
   "execution_count": null,
   "metadata": {},
   "outputs": [],
   "source": [
    "# write the predicted data to a csv file\n",
    "d = {'stances': predicted_stances, 'categories': predicted_categories}\n",
    "test_csv = pd.DataFrame(data=d, columns=['stances', 'categories'])\n",
    "test_csv.to_csv('result.csv')"
   ]
  },
  {
   "cell_type": "code",
   "execution_count": null,
   "metadata": {},
   "outputs": [],
   "source": []
  }
 ],
 "metadata": {
  "kernelspec": {
   "display_name": "Python 3",
   "language": "python",
   "name": "python3"
  },
  "language_info": {
   "codemirror_mode": {
    "name": "ipython",
    "version": 3
   },
   "file_extension": ".py",
   "mimetype": "text/x-python",
   "name": "python",
   "nbconvert_exporter": "python",
   "pygments_lexer": "ipython3",
   "version": "3.10.2"
  },
  "orig_nbformat": 4,
  "vscode": {
   "interpreter": {
    "hash": "2ce1aa5045122ce61d81150741fc545f0705456a83bb0ce116eee68d33a445e8"
   }
  }
 },
 "nbformat": 4,
 "nbformat_minor": 2
}
