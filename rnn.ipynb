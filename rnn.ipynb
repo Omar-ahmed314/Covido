{
 "cells": [
  {
   "cell_type": "code",
   "execution_count": 1,
   "metadata": {},
   "outputs": [
    {
     "name": "stderr",
     "output_type": "stream",
     "text": [
      "c:\\Users\\omara\\AppData\\Local\\Programs\\Python\\Python310\\lib\\site-packages\\tqdm\\auto.py:22: TqdmWarning: IProgress not found. Please update jupyter and ipywidgets. See https://ipywidgets.readthedocs.io/en/stable/user_install.html\n",
      "  from .autonotebook import tqdm as notebook_tqdm\n"
     ]
    }
   ],
   "source": [
    "import torch as t\n",
    "import numpy as np\n",
    "import preprocessing\n",
    "from torch.utils.data import DataLoader, Dataset\n",
    "from sklearn.metrics import precision_score, f1_score, recall_score, accuracy_score\n",
    "from sklearn.metrics import classification_report"
   ]
  },
  {
   "cell_type": "code",
   "execution_count": 2,
   "metadata": {},
   "outputs": [],
   "source": [
    "class TweetsDataset(Dataset):\n",
    "    '''Generic dataset'''\n",
    "    def __init__(self, csvPath, type):\n",
    "        '''initialize the data and labels'''\n",
    "        super().__init__()\n",
    "        self.data, _, self.labels = preprocessing.preprocessDF(csvPath, type, getNERandPOS=False, applyStemming=True)\n",
    "        self.vocabs = self.calculate_vocabs()\n",
    "        self.vocab_size = len(self.vocabs)\n",
    "        self.data_padding()\n",
    "        self.replace_with_vocab_id()\n",
    "        self.data = t.tensor(self.data)\n",
    "\n",
    "    def __getitem__(self, index):\n",
    "        ''' get the row item'''\n",
    "        return self.data[index], self.labels[index]\n",
    "\n",
    "    def data_padding(self):\n",
    "        max_length = self.get_max_data_length()\n",
    "        for data_row in self.data:\n",
    "            if len(data_row) < max_length:\n",
    "                padding = max_length - len(data_row)\n",
    "                padding_list = [' '] * padding\n",
    "                data_row += padding_list\n",
    "\n",
    "    def get_max_data_length(self):\n",
    "        max_length = -1e9\n",
    "        for data_row in self.data:\n",
    "            if len(data_row) > max_length:\n",
    "                max_length = len(data_row)\n",
    "        return max_length\n",
    "\n",
    "    def calculate_vocabs(self):\n",
    "        '''Calculate the vocabs book from the data'''\n",
    "        vocabs_set = set()\n",
    "        vocab_book = {}\n",
    "        for tweet in self.data:\n",
    "            vocabs_set.update(tweet)\n",
    "        # here I started with token 1 as to leave zero token to the unknown word\n",
    "        for i, word in enumerate(vocabs_set):\n",
    "            vocab_book[word] = i + 1\n",
    "        vocab_book['UNK'] = 0\n",
    "        return vocab_book\n",
    "\n",
    "    def replace_with_vocab_id(self):\n",
    "        '''Replace the string word with its id in vocabs book'''\n",
    "        for i, sentence in enumerate(self.data):\n",
    "            self.data[i] = [self.vocabs[word] if word in self.vocabs else self.vocabs['UNK'] for word in sentence]\n",
    "\n",
    "\n",
    "    def __len__(self):\n",
    "        '''get the dataset size'''\n",
    "        return len(self.data)\n",
    "        "
   ]
  },
  {
   "cell_type": "code",
   "execution_count": 3,
   "metadata": {},
   "outputs": [],
   "source": [
    "class CategoriesDataset(TweetsDataset):\n",
    "    '''Tweets dataset with their categories'''\n",
    "    def __init__(self, csvPath, type):\n",
    "        '''initialize the data and labels'''\n",
    "        super().__init__(csvPath, type)\n",
    "        self.labels = t.tensor(self.labels)[:, 0]\n",
    "        "
   ]
  },
  {
   "cell_type": "code",
   "execution_count": 4,
   "metadata": {},
   "outputs": [],
   "source": [
    "class StancesDataset(TweetsDataset):\n",
    "    '''Tweets dataset with their stances'''\n",
    "    def __init__(self, csvPath, type):\n",
    "        '''initialize the data and labels'''\n",
    "        super().__init__(csvPath, type)\n",
    "        self.labels = t.tensor(list(map(lambda x: 2 if x[1] == -1 else x[1], self.labels)))"
   ]
  },
  {
   "cell_type": "code",
   "execution_count": 5,
   "metadata": {},
   "outputs": [],
   "source": [
    "class RNN(t.nn.Module):\n",
    "    def __init__(self, vocab_size, embedding_dim, hidden_size, num_layers, num_classes):\n",
    "        super(RNN, self).__init__()\n",
    "        self.num_layers = num_layers\n",
    "        self.hidden_size = hidden_size\n",
    "        self.vocab_size = vocab_size\n",
    "        self.embedding_size = embedding_dim\n",
    "        self.embedding = t.nn.Embedding(vocab_size, embedding_dim=embedding_dim)\n",
    "        self.rnn = t.nn.RNN(embedding_dim, hidden_size, num_layers, batch_first=True)\n",
    "        self.fc = t.nn.Linear(hidden_size, num_classes)\n",
    "\n",
    "    def forward(self, input):\n",
    "        input = self.embedding(t.tensor(input))\n",
    "        out, _ = self.rnn(input)\n",
    "        out = self.fc(out)\n",
    "        return out\n"
   ]
  },
  {
   "cell_type": "code",
   "execution_count": 6,
   "metadata": {},
   "outputs": [],
   "source": [
    "class TweetsClassifier():\n",
    "    def __init__(self):\n",
    "        pass\n",
    "    def train(self):\n",
    "        pass\n",
    "    def predict(self):\n",
    "        pass"
   ]
  },
  {
   "cell_type": "code",
   "execution_count": 34,
   "metadata": {},
   "outputs": [],
   "source": [
    "class RnnTweetsClassifier(TweetsClassifier):\n",
    "    def __init__(self, dataset, embedding_dim, hidden_size, num_layers, num_classes, epoch_size, learning_rate):\n",
    "        super().__init__()\n",
    "        self.dataset = dataset\n",
    "        self.embedding_dim = embedding_dim\n",
    "        self.epoch_size = epoch_size\n",
    "        self.learning_rate = learning_rate\n",
    "        self.model = RNN(dataset.vocab_size, embedding_dim, hidden_size, num_layers, num_classes)\n",
    "        self.data_loader = DataLoader(dataset=dataset, batch_size=256, shuffle=True)\n",
    "        self.criterion = t.nn.CrossEntropyLoss()\n",
    "        self.optimizer = t.optim.Adam(params=self.model.parameters(), lr=self.learning_rate)\n",
    "         \n",
    "    def train(self):\n",
    "        for epoch in range(self.epoch_size):\n",
    "            total_model_acc = 0\n",
    "            total_num_samples = 0\n",
    "            for data in self.data_loader:\n",
    "                train_data = data[:][0]\n",
    "                labels = data[:][1]\n",
    "                output = self.model(train_data)\n",
    "                total_model_acc += (t.argmax(output, dim=2) == labels.repeat(output.shape[1], 1).transpose(0, 1)).sum()\n",
    "                total_num_samples += len(labels) * output.shape[1]\n",
    "                loss = self.criterion(t.reshape(output, (output.shape[0] * output.shape[1], -1)), labels.repeat(output.shape[1], 1).transpose(0, 1).flatten())\n",
    "                self.optimizer.zero_grad()\n",
    "                loss.backward()\n",
    "                t.nn.utils.clip_grad_norm_(self.model.parameters(), max_norm=1)\n",
    "                self.optimizer.step()\n",
    "            \n",
    "            total_model_acc = total_model_acc / total_num_samples\n",
    "            print(f\"epoch num: {epoch} has accuracy: {100 * total_model_acc}\")\n",
    "\n",
    "    def predict(self, testLoader):\n",
    "        with t.no_grad():\n",
    "            predected = t.tensor([])\n",
    "            real_labels = t.tensor([])\n",
    "            for tweets in testLoader:\n",
    "                test_data = tweets[:][0]\n",
    "                labels = tweets[:][1]\n",
    "                output = self.model(test_data)\n",
    "                predected = t.cat((predected, t.argmax(output[:, -1, :], dim=1)))\n",
    "                real_labels = t.cat((real_labels, labels))\n",
    "            return predected, real_labels\n",
    "            \n"
   ]
  },
  {
   "cell_type": "code",
   "execution_count": 8,
   "metadata": {},
   "outputs": [],
   "source": [
    "class Evaluation():\n",
    "    def __init__(self, predicted, real_labels):\n",
    "        self.pred = predicted\n",
    "        self.labels = real_labels\n",
    "        accuracy = accuracy_score(real_labels, predicted)\n",
    "        recall = recall_score(real_labels, predicted)\n",
    "        precision = precision_score(real_labels, predicted)\n",
    "        f1 = f1_score(real_labels, predicted)\n",
    "        print(f'''  Accuracy: {accuracy}\n",
    "                    Recall: {recall}\n",
    "                    Precision: {precision}\n",
    "                    F1-Score: {f1}''')"
   ]
  },
  {
   "cell_type": "code",
   "execution_count": 73,
   "metadata": {},
   "outputs": [],
   "source": [
    "# load the dataset and dataloader\n",
    "dataset = StancesDataset('./dataset/train.csv', 'train')\n",
    "tweet_classifier = RnnTweetsClassifier(dataset, 50, 50, 3, 3, 10, 0.001)"
   ]
  },
  {
   "cell_type": "code",
   "execution_count": 74,
   "metadata": {},
   "outputs": [
    {
     "name": "stderr",
     "output_type": "stream",
     "text": [
      "C:\\Users\\omara\\AppData\\Local\\Temp\\ipykernel_6140\\3290526726.py:13: UserWarning: To copy construct from a tensor, it is recommended to use sourceTensor.clone().detach() or sourceTensor.clone().detach().requires_grad_(True), rather than torch.tensor(sourceTensor).\n",
      "  input = self.embedding(t.tensor(input))\n"
     ]
    },
    {
     "name": "stdout",
     "output_type": "stream",
     "text": [
      "epoch num: 0 has accuracy: 76.29442596435547\n",
      "epoch num: 1 has accuracy: 79.24826049804688\n",
      "epoch num: 2 has accuracy: 79.2498550415039\n",
      "epoch num: 3 has accuracy: 79.2498550415039\n",
      "epoch num: 4 has accuracy: 79.2498550415039\n",
      "epoch num: 5 has accuracy: 79.24638366699219\n",
      "epoch num: 6 has accuracy: 79.23770904541016\n",
      "epoch num: 7 has accuracy: 79.3157730102539\n",
      "epoch num: 8 has accuracy: 79.21849060058594\n",
      "epoch num: 9 has accuracy: 79.04344177246094\n"
     ]
    }
   ],
   "source": [
    "# train the stances model\n",
    "tweet_classifier.train()"
   ]
  },
  {
   "cell_type": "code",
   "execution_count": 75,
   "metadata": {},
   "outputs": [],
   "source": [
    "testset = StancesDataset('./dataset/dev.csv', 'test')\n",
    "testloader = DataLoader(dataset=testset, batch_size=256, shuffle=True)"
   ]
  },
  {
   "cell_type": "code",
   "execution_count": 76,
   "metadata": {},
   "outputs": [
    {
     "name": "stdout",
     "output_type": "stream",
     "text": [
      "              precision    recall  f1-score   support\n",
      "\n",
      "         0.0       0.00      0.00      0.00       126\n",
      "         1.0       0.80      1.00      0.89       804\n",
      "         2.0       0.00      0.00      0.00        70\n",
      "\n",
      "    accuracy                           0.80      1000\n",
      "   macro avg       0.27      0.33      0.30      1000\n",
      "weighted avg       0.65      0.80      0.72      1000\n",
      "\n"
     ]
    },
    {
     "name": "stderr",
     "output_type": "stream",
     "text": [
      "C:\\Users\\omara\\AppData\\Local\\Temp\\ipykernel_6140\\3290526726.py:13: UserWarning: To copy construct from a tensor, it is recommended to use sourceTensor.clone().detach() or sourceTensor.clone().detach().requires_grad_(True), rather than torch.tensor(sourceTensor).\n",
      "  input = self.embedding(t.tensor(input))\n",
      "c:\\Users\\omara\\AppData\\Local\\Programs\\Python\\Python310\\lib\\site-packages\\sklearn\\metrics\\_classification.py:1318: UndefinedMetricWarning: Precision and F-score are ill-defined and being set to 0.0 in labels with no predicted samples. Use `zero_division` parameter to control this behavior.\n",
      "  _warn_prf(average, modifier, msg_start, len(result))\n",
      "c:\\Users\\omara\\AppData\\Local\\Programs\\Python\\Python310\\lib\\site-packages\\sklearn\\metrics\\_classification.py:1318: UndefinedMetricWarning: Precision and F-score are ill-defined and being set to 0.0 in labels with no predicted samples. Use `zero_division` parameter to control this behavior.\n",
      "  _warn_prf(average, modifier, msg_start, len(result))\n",
      "c:\\Users\\omara\\AppData\\Local\\Programs\\Python\\Python310\\lib\\site-packages\\sklearn\\metrics\\_classification.py:1318: UndefinedMetricWarning: Precision and F-score are ill-defined and being set to 0.0 in labels with no predicted samples. Use `zero_division` parameter to control this behavior.\n",
      "  _warn_prf(average, modifier, msg_start, len(result))\n"
     ]
    }
   ],
   "source": [
    "predicted, labels = tweet_classifier.predict(testloader)\n",
    "print(classification_report(labels, predicted))"
   ]
  },
  {
   "cell_type": "code",
   "execution_count": 84,
   "metadata": {},
   "outputs": [],
   "source": [
    "# load the dataset and dataloader\n",
    "categories_dataset = CategoriesDataset('./dataset/train.csv', 'train')\n",
    "gategories_classifier = RnnTweetsClassifier(categories_dataset, 50, 50, 3, 10, 10, 0.001)"
   ]
  },
  {
   "cell_type": "code",
   "execution_count": 85,
   "metadata": {},
   "outputs": [
    {
     "name": "stderr",
     "output_type": "stream",
     "text": [
      "C:\\Users\\omara\\AppData\\Local\\Temp\\ipykernel_6140\\3290526726.py:13: UserWarning: To copy construct from a tensor, it is recommended to use sourceTensor.clone().detach() or sourceTensor.clone().detach().requires_grad_(True), rather than torch.tensor(sourceTensor).\n",
      "  input = self.embedding(t.tensor(input))\n"
     ]
    },
    {
     "name": "stdout",
     "output_type": "stream",
     "text": [
      "epoch num: 0 has accuracy: 46.31070327758789\n",
      "epoch num: 1 has accuracy: 51.577598571777344\n",
      "epoch num: 2 has accuracy: 51.66851806640625\n",
      "epoch num: 3 has accuracy: 51.69786071777344\n",
      "epoch num: 4 has accuracy: 51.71361541748047\n",
      "epoch num: 5 has accuracy: 51.72734832763672\n",
      "epoch num: 6 has accuracy: 51.73183059692383\n",
      "epoch num: 7 has accuracy: 51.74093246459961\n",
      "epoch num: 8 has accuracy: 51.82809829711914\n",
      "epoch num: 9 has accuracy: 52.23774719238281\n"
     ]
    }
   ],
   "source": [
    "gategories_classifier.train()"
   ]
  },
  {
   "cell_type": "code",
   "execution_count": 82,
   "metadata": {},
   "outputs": [],
   "source": [
    "categories_testset = CategoriesDataset('./dataset/dev.csv', 'test')\n",
    "categories_testloader = DataLoader(dataset=categories_testset, batch_size=256, shuffle=True)"
   ]
  },
  {
   "cell_type": "code",
   "execution_count": 83,
   "metadata": {},
   "outputs": [
    {
     "name": "stdout",
     "output_type": "stream",
     "text": [
      "              precision    recall  f1-score   support\n",
      "\n",
      "         0.0       0.52      0.47      0.50       545\n",
      "         1.0       0.00      0.00      0.00       145\n",
      "         2.0       0.00      0.00      0.00        82\n",
      "         3.0       0.00      0.00      0.00        20\n",
      "         4.0       0.00      0.00      0.00        15\n",
      "         5.0       0.00      0.00      0.00        10\n",
      "         6.0       0.00      0.00      0.00         2\n",
      "         7.0       0.14      0.55      0.22       128\n",
      "         8.0       0.00      0.00      0.00        36\n",
      "         9.0       0.00      0.00      0.00        17\n",
      "\n",
      "    accuracy                           0.33      1000\n",
      "   macro avg       0.07      0.10      0.07      1000\n",
      "weighted avg       0.30      0.33      0.30      1000\n",
      "\n"
     ]
    },
    {
     "name": "stderr",
     "output_type": "stream",
     "text": [
      "C:\\Users\\omara\\AppData\\Local\\Temp\\ipykernel_6140\\3290526726.py:13: UserWarning: To copy construct from a tensor, it is recommended to use sourceTensor.clone().detach() or sourceTensor.clone().detach().requires_grad_(True), rather than torch.tensor(sourceTensor).\n",
      "  input = self.embedding(t.tensor(input))\n",
      "c:\\Users\\omara\\AppData\\Local\\Programs\\Python\\Python310\\lib\\site-packages\\sklearn\\metrics\\_classification.py:1318: UndefinedMetricWarning: Precision and F-score are ill-defined and being set to 0.0 in labels with no predicted samples. Use `zero_division` parameter to control this behavior.\n",
      "  _warn_prf(average, modifier, msg_start, len(result))\n",
      "c:\\Users\\omara\\AppData\\Local\\Programs\\Python\\Python310\\lib\\site-packages\\sklearn\\metrics\\_classification.py:1318: UndefinedMetricWarning: Precision and F-score are ill-defined and being set to 0.0 in labels with no predicted samples. Use `zero_division` parameter to control this behavior.\n",
      "  _warn_prf(average, modifier, msg_start, len(result))\n",
      "c:\\Users\\omara\\AppData\\Local\\Programs\\Python\\Python310\\lib\\site-packages\\sklearn\\metrics\\_classification.py:1318: UndefinedMetricWarning: Precision and F-score are ill-defined and being set to 0.0 in labels with no predicted samples. Use `zero_division` parameter to control this behavior.\n",
      "  _warn_prf(average, modifier, msg_start, len(result))\n"
     ]
    }
   ],
   "source": [
    "predicted, labels = gategories_classifier.predict(categories_testloader)\n",
    "print(classification_report(labels, predicted))"
   ]
  },
  {
   "cell_type": "code",
   "execution_count": null,
   "metadata": {},
   "outputs": [],
   "source": []
  }
 ],
 "metadata": {
  "kernelspec": {
   "display_name": "Python 3",
   "language": "python",
   "name": "python3"
  },
  "language_info": {
   "codemirror_mode": {
    "name": "ipython",
    "version": 3
   },
   "file_extension": ".py",
   "mimetype": "text/x-python",
   "name": "python",
   "nbconvert_exporter": "python",
   "pygments_lexer": "ipython3",
   "version": "3.10.2"
  },
  "orig_nbformat": 4,
  "vscode": {
   "interpreter": {
    "hash": "2ce1aa5045122ce61d81150741fc545f0705456a83bb0ce116eee68d33a445e8"
   }
  }
 },
 "nbformat": 4,
 "nbformat_minor": 2
}
