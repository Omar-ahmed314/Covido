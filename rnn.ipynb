{
 "cells": [
  {
   "cell_type": "code",
   "execution_count": 2,
   "metadata": {},
   "outputs": [
    {
     "name": "stderr",
     "output_type": "stream",
     "text": [
      "c:\\Users\\omara\\AppData\\Local\\Programs\\Python\\Python310\\lib\\site-packages\\tqdm\\auto.py:22: TqdmWarning: IProgress not found. Please update jupyter and ipywidgets. See https://ipywidgets.readthedocs.io/en/stable/user_install.html\n",
      "  from .autonotebook import tqdm as notebook_tqdm\n"
     ]
    }
   ],
   "source": [
    "import torch as t\n",
    "import numpy as np\n",
    "import preprocssing\n",
    "from torch.utils.data import DataLoader, Dataset"
   ]
  },
  {
   "cell_type": "code",
   "execution_count": 29,
   "metadata": {},
   "outputs": [],
   "source": [
    "class TweetsDataset(Dataset):\n",
    "    def __init__(self, csvPath):\n",
    "        '''initialize the data and labels'''\n",
    "        super().__init__()\n",
    "        data, labels = preprocssing.preprocessDF(csvPath)\n",
    "        self.data = data\n",
    "        self.labels = labels\n",
    "        self.size = len(data)\n",
    "        self.data_padding()\n",
    "    \n",
    "    def __getitem__(self, index):\n",
    "        ''' get the row item'''\n",
    "        return self.data[index], self.labels[index]\n",
    "\n",
    "    def data_padding(self):\n",
    "        max_length = self.get_max_data_length()\n",
    "        for data_row in self.data:\n",
    "            if len(data_row) < max_length:\n",
    "                padding = max_length - len(data_row)\n",
    "                padding_list = [' '] * padding\n",
    "                data_row += padding_list\n",
    "\n",
    "    def get_max_data_length(self):\n",
    "        max_length = -1e9\n",
    "        for data_row in self.data:\n",
    "            if len(data_row) > max_length:\n",
    "                max_length = len(data_row)\n",
    "        return max_length\n",
    "\n",
    "    def __len__(self):\n",
    "        '''get the dataset size'''\n",
    "        return self.size"
   ]
  },
  {
   "cell_type": "code",
   "execution_count": 36,
   "metadata": {},
   "outputs": [],
   "source": [
    "class TweetsClassifier(t.nn.Module):\n",
    "    def __init__(self):\n",
    "        pass\n",
    "    def train(self):\n",
    "        pass\n",
    "    def predict(self):\n",
    "        pass"
   ]
  },
  {
   "cell_type": "code",
   "execution_count": null,
   "metadata": {},
   "outputs": [],
   "source": [
    "class RnnTweetsClassifier(TweetsClassifier):\n",
    "    def __init__(self, input_size, hidden_size, num_layers, num_classes, epoch_size, learning_rate, data_loader, embeddings = -1):\n",
    "        super(RnnTweetsClassifier, self).__init__()\n",
    "        self.num_layers = num_layers\n",
    "        self.hidden_size = hidden_size\n",
    "        self.input_size = input_size\n",
    "        self.epoch_size = epoch_size\n",
    "        self.data_loader = data_loader\n",
    "        self.embeddings = embeddings\n",
    "        self.learning_rate = learning_rate\n",
    "        self.rnn = t.nn.RNN(input_size, hidden_size, num_layers, batch_first=True)\n",
    "        self.fc = t.nn.Linear(hidden_size, num_classes)\n",
    "        self.criterion = t.nn.CrossEntropyLoss()\n",
    "        self.optimizer = t.optim.Adam(self.rnn.parameters(), self.learning_rate)\n",
    "    \n",
    "    def forward(self, input):\n",
    "        #  h0 = t.zeros(self.num_layers, input.size(0), self.hidden_size)\n",
    "         out, _ = self.rnn(input)\n",
    "         out = out[:, -1, :]\n",
    "         out = self.fc(out)\n",
    "         return out\n",
    "\n",
    "    def train(self):\n",
    "        for epoch in range(self.epoch_size):\n",
    "            for data, labels in self.data_loader:\n",
    "                # reshape the row data\n",
    "                tweet_size = data.shape[0]\n",
    "                train_data = t.reshape(-1, tweet_size, self.input_size)\n",
    "\n",
    "                output = self.rnn(train_data)\n",
    "                \n",
    "\n",
    "\n",
    "        \n",
    "    \n",
    "    def predict(self, tweet):\n",
    "        pass"
   ]
  },
  {
   "cell_type": "code",
   "execution_count": 30,
   "metadata": {},
   "outputs": [],
   "source": [
    "# load the dataset and dataloader\n",
    "dataset = TweetsDataset('./dataset/train.csv')\n",
    "dataloader = DataLoader(dataset=dataset, batch_size=4, shuffle=True)"
   ]
  },
  {
   "cell_type": "code",
   "execution_count": 33,
   "metadata": {},
   "outputs": [
    {
     "name": "stdout",
     "output_type": "stream",
     "text": [
      "[[('اتصالات', 'شاهد', 'تطعيم', 'اللقاح'), ('الجزائر', 'الأمير', 'كورونا', 'الأمريكي'), ('روسيا', 'تركي', ' ', 'امن'), ('لتصنيع', 'بن', ' ', 'ومفيد'), ('لقاح', 'هذلول', ' ', 'اصبحت'), ('سبوتنيك', 'يتلقى', ' ', 'الولايات'), ('v', 'الجرعه', ' ', 'المتحده'), ('الجزائر', 'الأولى', ' ', 'الأمريكيه'), (' ', 'لقاح', ' ', 'الأعلى'), (' ', 'كورونا', ' ', 'عدد'), (' ', ' ', ' ', 'الإصابات'), (' ', ' ', ' ', 'نريد'), (' ', ' ', ' ', 'لقاح'), (' ', ' ', ' ', 'امن'), (' ', ' ', ' ', ' '), (' ', ' ', ' ', ' '), (' ', ' ', ' ', ' '), (' ', ' ', ' ', ' '), (' ', ' ', ' ', ' '), (' ', ' ', ' ', ' '), (' ', ' ', ' ', ' '), (' ', ' ', ' ', ' '), (' ', ' ', ' ', ' '), (' ', ' ', ' ', ' '), (' ', ' ', ' ', ' '), (' ', ' ', ' ', ' '), (' ', ' ', ' ', ' '), (' ', ' ', ' ', ' '), (' ', ' ', ' ', ' '), (' ', ' ', ' ', ' '), (' ', ' ', ' ', ' '), (' ', ' ', ' ', ' '), (' ', ' ', ' ', ' '), (' ', ' ', ' ', ' '), (' ', ' ', ' ', ' '), (' ', ' ', ' ', ' '), (' ', ' ', ' ', ' '), (' ', ' ', ' ', ' '), (' ', ' ', ' ', ' '), (' ', ' ', ' ', ' '), (' ', ' ', ' ', ' '), (' ', ' ', ' ', ' '), (' ', ' ', ' ', ' '), (' ', ' ', ' ', ' '), (' ', ' ', ' ', ' '), (' ', ' ', ' ', ' '), (' ', ' ', ' ', ' '), (' ', ' ', ' ', ' '), (' ', ' ', ' ', ' '), (' ', ' ', ' ', ' '), (' ', ' ', ' ', ' '), (' ', ' ', ' ', ' '), (' ', ' ', ' ', ' '), (' ', ' ', ' ', ' '), (' ', ' ', ' ', ' '), (' ', ' ', ' ', ' '), (' ', ' ', ' ', ' '), (' ', ' ', ' ', ' '), (' ', ' ', ' ', ' '), (' ', ' ', ' ', ' '), (' ', ' ', ' ', ' '), (' ', ' ', ' ', ' '), (' ', ' ', ' ', ' '), (' ', ' ', ' ', ' '), (' ', ' ', ' ', ' '), (' ', ' ', ' ', ' '), (' ', ' ', ' ', ' '), (' ', ' ', ' ', ' '), (' ', ' ', ' ', ' '), (' ', ' ', ' ', ' '), (' ', ' ', ' ', ' '), (' ', ' ', ' ', ' '), (' ', ' ', ' ', ' '), (' ', ' ', ' ', ' '), (' ', ' ', ' ', ' '), (' ', ' ', ' ', ' '), (' ', ' ', ' ', ' '), (' ', ' ', ' ', ' '), (' ', ' ', ' ', ' '), (' ', ' ', ' ', ' '), (' ', ' ', ' ', ' '), (' ', ' ', ' ', ' '), (' ', ' ', ' ', ' '), (' ', ' ', ' ', ' '), (' ', ' ', ' ', ' '), (' ', ' ', ' ', ' '), (' ', ' ', ' ', ' '), (' ', ' ', ' ', ' '), (' ', ' ', ' ', ' '), (' ', ' ', ' ', ' '), (' ', ' ', ' ', ' '), (' ', ' ', ' ', ' '), (' ', ' ', ' ', ' '), (' ', ' ', ' ', ' '), (' ', ' ', ' ', ' '), (' ', ' ', ' ', ' '), (' ', ' ', ' ', ' '), (' ', ' ', ' ', ' '), (' ', ' ', ' ', ' '), (' ', ' ', ' ', ' '), (' ', ' ', ' ', ' '), (' ', ' ', ' ', ' '), (' ', ' ', ' ', ' '), (' ', ' ', ' ', ' '), (' ', ' ', ' ', ' '), (' ', ' ', ' ', ' '), (' ', ' ', ' ', ' '), (' ', ' ', ' ', ' '), (' ', ' ', ' ', ' ')], [tensor([1, 0, 6, 1]), tensor([1, 1, 0, 1])]]\n",
      "[[('عاجل', 'لقاح', 'المده', 'اما'), ('خادم', 'كورونا', 'الزمنيه', 'نحنا'), ('الحرمين', 'يطيح', 'جرعات', 'منسمع'), ('الشريفين', 'برئيس', 'لقاح', 'صوت'), ('حفظه', 'اركان', 'كورونا', 'الطيران'), ('الله', 'الجيش', 'تثير', 'لإنو'), ('يتلقى', 'الإسباني', 'جدلا', 'نحنا'), ('الجرعه', ' ', ' ', 'تابعين'), ('الأولى', ' ', ' ', 'لإيران'), ('لقاح', ' ', ' ', 'اما'), ('كورونا', ' ', ' ', 'هني'), (' ', ' ', ' ', 'ملقحين'), (' ', ' ', ' ', 'لقاح'), (' ', ' ', ' ', 'ضد'), (' ', ' ', ' ', 'صوت'), (' ', ' ', ' ', 'الطيران'), (' ', ' ', ' ', ' '), (' ', ' ', ' ', ' '), (' ', ' ', ' ', ' '), (' ', ' ', ' ', ' '), (' ', ' ', ' ', ' '), (' ', ' ', ' ', ' '), (' ', ' ', ' ', ' '), (' ', ' ', ' ', ' '), (' ', ' ', ' ', ' '), (' ', ' ', ' ', ' '), (' ', ' ', ' ', ' '), (' ', ' ', ' ', ' '), (' ', ' ', ' ', ' '), (' ', ' ', ' ', ' '), (' ', ' ', ' ', ' '), (' ', ' ', ' ', ' '), (' ', ' ', ' ', ' '), (' ', ' ', ' ', ' '), (' ', ' ', ' ', ' '), (' ', ' ', ' ', ' '), (' ', ' ', ' ', ' '), (' ', ' ', ' ', ' '), (' ', ' ', ' ', ' '), (' ', ' ', ' ', ' '), (' ', ' ', ' ', ' '), (' ', ' ', ' ', ' '), (' ', ' ', ' ', ' '), (' ', ' ', ' ', ' '), (' ', ' ', ' ', ' '), (' ', ' ', ' ', ' '), (' ', ' ', ' ', ' '), (' ', ' ', ' ', ' '), (' ', ' ', ' ', ' '), (' ', ' ', ' ', ' '), (' ', ' ', ' ', ' '), (' ', ' ', ' ', ' '), (' ', ' ', ' ', ' '), (' ', ' ', ' ', ' '), (' ', ' ', ' ', ' '), (' ', ' ', ' ', ' '), (' ', ' ', ' ', ' '), (' ', ' ', ' ', ' '), (' ', ' ', ' ', ' '), (' ', ' ', ' ', ' '), (' ', ' ', ' ', ' '), (' ', ' ', ' ', ' '), (' ', ' ', ' ', ' '), (' ', ' ', ' ', ' '), (' ', ' ', ' ', ' '), (' ', ' ', ' ', ' '), (' ', ' ', ' ', ' '), (' ', ' ', ' ', ' '), (' ', ' ', ' ', ' '), (' ', ' ', ' ', ' '), (' ', ' ', ' ', ' '), (' ', ' ', ' ', ' '), (' ', ' ', ' ', ' '), (' ', ' ', ' ', ' '), (' ', ' ', ' ', ' '), (' ', ' ', ' ', ' '), (' ', ' ', ' ', ' '), (' ', ' ', ' ', ' '), (' ', ' ', ' ', ' '), (' ', ' ', ' ', ' '), (' ', ' ', ' ', ' '), (' ', ' ', ' ', ' '), (' ', ' ', ' ', ' '), (' ', ' ', ' ', ' '), (' ', ' ', ' ', ' '), (' ', ' ', ' ', ' '), (' ', ' ', ' ', ' '), (' ', ' ', ' ', ' '), (' ', ' ', ' ', ' '), (' ', ' ', ' ', ' '), (' ', ' ', ' ', ' '), (' ', ' ', ' ', ' '), (' ', ' ', ' ', ' '), (' ', ' ', ' ', ' '), (' ', ' ', ' ', ' '), (' ', ' ', ' ', ' '), (' ', ' ', ' ', ' '), (' ', ' ', ' ', ' '), (' ', ' ', ' ', ' '), (' ', ' ', ' ', ' '), (' ', ' ', ' ', ' '), (' ', ' ', ' ', ' '), (' ', ' ', ' ', ' '), (' ', ' ', ' ', ' '), (' ', ' ', ' ', ' '), (' ', ' ', ' ', ' '), (' ', ' ', ' ', ' '), (' ', ' ', ' ', ' '), (' ', ' ', ' ', ' ')], [tensor([0, 1, 8, 3]), tensor([ 1, -1,  1,  0])]]\n"
     ]
    }
   ],
   "source": []
  },
  {
   "cell_type": "code",
   "execution_count": null,
   "metadata": {},
   "outputs": [],
   "source": []
  }
 ],
 "metadata": {
  "kernelspec": {
   "display_name": "Python 3",
   "language": "python",
   "name": "python3"
  },
  "language_info": {
   "codemirror_mode": {
    "name": "ipython",
    "version": 3
   },
   "file_extension": ".py",
   "mimetype": "text/x-python",
   "name": "python",
   "nbconvert_exporter": "python",
   "pygments_lexer": "ipython3",
   "version": "3.10.2"
  },
  "orig_nbformat": 4,
  "vscode": {
   "interpreter": {
    "hash": "2ce1aa5045122ce61d81150741fc545f0705456a83bb0ce116eee68d33a445e8"
   }
  }
 },
 "nbformat": 4,
 "nbformat_minor": 2
}
