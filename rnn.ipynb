{
 "cells": [
  {
   "cell_type": "code",
   "execution_count": 2,
   "metadata": {},
   "outputs": [
    {
     "name": "stderr",
     "output_type": "stream",
     "text": [
      "c:\\Users\\omara\\AppData\\Local\\Programs\\Python\\Python310\\lib\\site-packages\\tqdm\\auto.py:22: TqdmWarning: IProgress not found. Please update jupyter and ipywidgets. See https://ipywidgets.readthedocs.io/en/stable/user_install.html\n",
      "  from .autonotebook import tqdm as notebook_tqdm\n"
     ]
    }
   ],
   "source": [
    "import torch as t\n",
    "import numpy as np\n",
    "import preprocssing\n",
    "from torch.utils.data import DataLoader, Dataset"
   ]
  },
  {
   "cell_type": "code",
   "execution_count": 175,
   "metadata": {},
   "outputs": [],
   "source": [
    "class TweetsDataset(Dataset):\n",
    "    def __init__(self, csvPath):\n",
    "        '''initialize the data and labels'''\n",
    "        super().__init__()\n",
    "        data, labels = preprocssing.preprocessDF(csvPath)\n",
    "        self.data = data\n",
    "        self.labels = t.tensor(list(map(lambda x: 2 if x == -1 else x, t.tensor(labels)[:, 1])))\n",
    "        self.data_size = len(data)\n",
    "        self.vocabs = self.calculate_vocabs()\n",
    "        self.vocab_size = len(self.vocabs)\n",
    "        self.data_padding()\n",
    "        self.replace_with_vocab_id()\n",
    "        self.data = t.tensor(self.data)\n",
    "    \n",
    "    def __getitem__(self, index):\n",
    "        ''' get the row item'''\n",
    "        return self.data[index], self.labels[index]\n",
    "\n",
    "    def data_padding(self):\n",
    "        max_length = self.get_max_data_length()\n",
    "        for data_row in self.data:\n",
    "            if len(data_row) < max_length:\n",
    "                padding = max_length - len(data_row)\n",
    "                padding_list = [' '] * padding\n",
    "                data_row += padding_list\n",
    "\n",
    "    def get_max_data_length(self):\n",
    "        max_length = -1e9\n",
    "        for data_row in self.data:\n",
    "            if len(data_row) > max_length:\n",
    "                max_length = len(data_row)\n",
    "        return max_length\n",
    "\n",
    "    def calculate_vocabs(self):\n",
    "        '''Calculate the vocabs book from the data'''\n",
    "        vocabs_set = set()\n",
    "        vocab_book = {}\n",
    "        for tweet in self.data:\n",
    "            vocabs_set.update(tweet)\n",
    "        # here I started with token 1 as to leave zero token to the unknown word\n",
    "        for i, word in enumerate(vocabs_set):\n",
    "            vocab_book[word] = i + 1\n",
    "        vocab_book['UNK'] = 0\n",
    "        return vocab_book\n",
    "\n",
    "    def replace_with_vocab_id(self):\n",
    "        '''Replace the string word with its id in vocabs book'''\n",
    "        for i, sentence in enumerate(self.data):\n",
    "            self.data[i] = [self.vocabs[word] if word in self.vocabs else self.vocabs['UNK'] for word in sentence]\n",
    "\n",
    "\n",
    "    def __len__(self):\n",
    "        '''get the dataset size'''\n",
    "        return self.data_size"
   ]
  },
  {
   "cell_type": "code",
   "execution_count": 184,
   "metadata": {},
   "outputs": [],
   "source": [
    "class RNN(t.nn.Module):\n",
    "    def __init__(self, vocab_size, embedding_dim, hidden_size, num_layers, num_classes):\n",
    "        super(RNN, self).__init__()\n",
    "        self.num_layers = num_layers\n",
    "        self.hidden_size = hidden_size\n",
    "        self.vocab_size = vocab_size\n",
    "        self.embedding_size = embedding_dim\n",
    "        self.embedding = t.nn.Embedding(vocab_size, embedding_dim=embedding_dim)\n",
    "        self.rnn = t.nn.LSTM(embedding_dim, hidden_size, num_layers, batch_first=True)\n",
    "        self.fc = t.nn.Linear(hidden_size, num_classes)\n",
    "\n",
    "    def forward(self, input):\n",
    "        input = self.embedding(t.tensor(input))\n",
    "        out, _ = self.rnn(input)\n",
    "        # out = out[:, -1, :]\n",
    "        out = self.fc(out)\n",
    "        return out\n"
   ]
  },
  {
   "cell_type": "code",
   "execution_count": 185,
   "metadata": {},
   "outputs": [],
   "source": [
    "class TweetsClassifier():\n",
    "    def __init__(self):\n",
    "        pass\n",
    "    def train(self):\n",
    "        pass\n",
    "    def predict(self):\n",
    "        pass"
   ]
  },
  {
   "cell_type": "code",
   "execution_count": 186,
   "metadata": {},
   "outputs": [],
   "source": [
    "class RnnTweetsClassifier(TweetsClassifier):\n",
    "    def __init__(self, dataset, embedding_dim, hidden_size, num_layers, num_classes, epoch_size, learning_rate):\n",
    "        super().__init__()\n",
    "        self.dataset = dataset\n",
    "        self.embedding_dim = embedding_dim\n",
    "        self.epoch_size = epoch_size\n",
    "        self.learning_rate = learning_rate\n",
    "        self.model = RNN(dataset.vocab_size, embedding_dim, hidden_size, num_layers, num_classes)\n",
    "        self.data_loader = DataLoader(dataset=dataset, batch_size=256, shuffle=True)\n",
    "        self.criterion = t.nn.CrossEntropyLoss()\n",
    "        self.optimizer = t.optim.Adam(self.model.parameters(), self.learning_rate)\n",
    "         \n",
    "    def train(self):\n",
    "        for epoch in range(self.epoch_size):\n",
    "            total_model_acc = 0\n",
    "            for data in self.data_loader:\n",
    "                train_data = data[:][0]\n",
    "                labels = data[:][1]\n",
    "                # reshape the row data\n",
    "                output = self.model(train_data)\n",
    "                # calculate the accuracy\n",
    "                # print(output.shape)\n",
    "                total_model_acc += (t.argmax(output[:, -1, :], dim=1) == labels).sum()\n",
    "                # print(output[:, -1, :].shape)\n",
    "                loss = self.criterion(output[:, -1, :], labels)\n",
    "                self.optimizer.zero_grad()\n",
    "                loss.backward()\n",
    "                self.optimizer.step()\n",
    "            \n",
    "            total_model_acc = total_model_acc / len(self.dataset)\n",
    "            print(f\"epoch num: {epoch} has accuracy: {total_model_acc}\")\n",
    "\n",
    "    def predict(self, testLoader):\n",
    "        with t.no_grad():\n",
    "            n_correct = 0\n",
    "            n_samples = 0\n",
    "            for tweets in testLoader:\n",
    "                test_data = tweets[:][0]\n",
    "                labels = tweets[:][1]\n",
    "                output = self.model(test_data)\n",
    "                n_correct += (t.argmax(output[:, -1, :], dim=1) == labels).sum()\n",
    "                n_samples += labels.size(0)\n",
    "            print(f\"Model accuracy: {100 * n_correct / n_samples}\")\n"
   ]
  },
  {
   "cell_type": "code",
   "execution_count": 187,
   "metadata": {},
   "outputs": [],
   "source": [
    "# load the dataset and dataloader\n",
    "dataset = TweetsDataset('./dataset/train.csv')\n",
    "tweet_classifier = RnnTweetsClassifier(dataset, 50, 50, 1, 3, 10, 0.001)"
   ]
  },
  {
   "cell_type": "code",
   "execution_count": 188,
   "metadata": {},
   "outputs": [
    {
     "name": "stderr",
     "output_type": "stream",
     "text": [
      "C:\\Users\\omara\\AppData\\Local\\Temp\\ipykernel_26388\\4013883744.py:13: UserWarning: To copy construct from a tensor, it is recommended to use sourceTensor.clone().detach() or sourceTensor.clone().detach().requires_grad_(True), rather than torch.tensor(sourceTensor).\n",
      "  input = self.embedding(t.tensor(input))\n"
     ]
    },
    {
     "name": "stdout",
     "output_type": "stream",
     "text": [
      "epoch num: 0 has accuracy: 0.6270749568939209\n",
      "epoch num: 1 has accuracy: 0.7925014495849609\n",
      "epoch num: 2 has accuracy: 0.7925014495849609\n",
      "epoch num: 3 has accuracy: 0.7925014495849609\n",
      "epoch num: 4 has accuracy: 0.7925014495849609\n",
      "epoch num: 5 has accuracy: 0.7925014495849609\n",
      "epoch num: 6 has accuracy: 0.7925014495849609\n",
      "epoch num: 7 has accuracy: 0.7925014495849609\n",
      "epoch num: 8 has accuracy: 0.7925014495849609\n",
      "epoch num: 9 has accuracy: 0.7925014495849609\n"
     ]
    }
   ],
   "source": [
    "tweet_classifier.train()"
   ]
  },
  {
   "cell_type": "code",
   "execution_count": 189,
   "metadata": {},
   "outputs": [],
   "source": [
    "testset = TweetsDataset('./dataset/dev.csv')\n",
    "testloader = DataLoader(dataset=testset, batch_size=256, shuffle=True)"
   ]
  },
  {
   "cell_type": "code",
   "execution_count": 190,
   "metadata": {},
   "outputs": [
    {
     "name": "stderr",
     "output_type": "stream",
     "text": [
      "C:\\Users\\omara\\AppData\\Local\\Temp\\ipykernel_26388\\4013883744.py:13: UserWarning: To copy construct from a tensor, it is recommended to use sourceTensor.clone().detach() or sourceTensor.clone().detach().requires_grad_(True), rather than torch.tensor(sourceTensor).\n",
      "  input = self.embedding(t.tensor(input))\n"
     ]
    },
    {
     "name": "stdout",
     "output_type": "stream",
     "text": [
      "Model accuracy: 80.4000015258789\n"
     ]
    }
   ],
   "source": [
    "tweet_classifier.predict(testloader)"
   ]
  },
  {
   "cell_type": "code",
   "execution_count": null,
   "metadata": {},
   "outputs": [],
   "source": []
  }
 ],
 "metadata": {
  "kernelspec": {
   "display_name": "Python 3",
   "language": "python",
   "name": "python3"
  },
  "language_info": {
   "codemirror_mode": {
    "name": "ipython",
    "version": 3
   },
   "file_extension": ".py",
   "mimetype": "text/x-python",
   "name": "python",
   "nbconvert_exporter": "python",
   "pygments_lexer": "ipython3",
   "version": "3.10.2"
  },
  "orig_nbformat": 4,
  "vscode": {
   "interpreter": {
    "hash": "2ce1aa5045122ce61d81150741fc545f0705456a83bb0ce116eee68d33a445e8"
   }
  }
 },
 "nbformat": 4,
 "nbformat_minor": 2
}
