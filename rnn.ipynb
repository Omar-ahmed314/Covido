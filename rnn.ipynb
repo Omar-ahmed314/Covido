{
 "cells": [
  {
   "cell_type": "code",
   "execution_count": 145,
   "metadata": {},
   "outputs": [],
   "source": [
    "import torch as t\n",
    "import numpy as np\n",
    "import preprocssing\n",
    "from torch.utils.data import DataLoader, Dataset\n",
    "from sklearn.metrics import classification_report"
   ]
  },
  {
   "cell_type": "code",
   "execution_count": 146,
   "metadata": {},
   "outputs": [],
   "source": [
    "class TweetsDataset(Dataset):\n",
    "    '''Generic dataset'''\n",
    "    def __init__(self, csvPath):\n",
    "        '''initialize the data and labels'''\n",
    "        super().__init__()\n",
    "        self.data, self.labels = preprocssing.preprocessDF(csvPath)\n",
    "        self.vocabs = self.calculate_vocabs()\n",
    "        self.vocab_size = len(self.vocabs)\n",
    "        self.data_padding()\n",
    "        self.replace_with_vocab_id()\n",
    "        self.data = t.tensor(self.data)\n",
    "\n",
    "    def __getitem__(self, index):\n",
    "        ''' get the row item'''\n",
    "        return self.data[index], self.labels[index]\n",
    "\n",
    "    def data_padding(self):\n",
    "        max_length = self.get_max_data_length()\n",
    "        for data_row in self.data:\n",
    "            if len(data_row) < max_length:\n",
    "                padding = max_length - len(data_row)\n",
    "                padding_list = [' '] * padding\n",
    "                data_row += padding_list\n",
    "\n",
    "    def get_max_data_length(self):\n",
    "        max_length = -1e9\n",
    "        for data_row in self.data:\n",
    "            if len(data_row) > max_length:\n",
    "                max_length = len(data_row)\n",
    "        return max_length\n",
    "\n",
    "    def calculate_vocabs(self):\n",
    "        '''Calculate the vocabs book from the data'''\n",
    "        vocabs_set = set()\n",
    "        vocab_book = {}\n",
    "        for tweet in self.data:\n",
    "            vocabs_set.update(tweet)\n",
    "        # here I started with token 1 as to leave zero token to the unknown word\n",
    "        for i, word in enumerate(vocabs_set):\n",
    "            vocab_book[word] = i + 1\n",
    "        vocab_book['UNK'] = 0\n",
    "        return vocab_book\n",
    "\n",
    "    def replace_with_vocab_id(self):\n",
    "        '''Replace the string word with its id in vocabs book'''\n",
    "        for i, sentence in enumerate(self.data):\n",
    "            self.data[i] = [self.vocabs[word] if word in self.vocabs else self.vocabs['UNK'] for word in sentence]\n",
    "\n",
    "\n",
    "    def __len__(self):\n",
    "        '''get the dataset size'''\n",
    "        return len(self.data)\n",
    "        "
   ]
  },
  {
   "cell_type": "code",
   "execution_count": 147,
   "metadata": {},
   "outputs": [],
   "source": [
    "class CategoriesDataset(TweetsDataset):\n",
    "    '''Tweets dataset with their categories'''\n",
    "    def __init__(self, csvPath):\n",
    "        '''initialize the data and labels'''\n",
    "        super().__init__(csvPath)\n",
    "        self.labels = t.tensor(self.labels)[:, 0]\n",
    "        "
   ]
  },
  {
   "cell_type": "code",
   "execution_count": 148,
   "metadata": {},
   "outputs": [],
   "source": [
    "class StancesDataset(TweetsDataset):\n",
    "    '''Tweets dataset with their stances'''\n",
    "    def __init__(self, csvPath):\n",
    "        '''initialize the data and labels'''\n",
    "        super().__init__(csvPath)\n",
    "        self.labels = t.tensor(list(map(lambda x: 2 if x[1] == -1 else x[1], self.labels)))"
   ]
  },
  {
   "cell_type": "code",
   "execution_count": 149,
   "metadata": {},
   "outputs": [],
   "source": [
    "class RNN(t.nn.Module):\n",
    "    def __init__(self, vocab_size, embedding_dim, hidden_size, num_layers, num_classes):\n",
    "        super(RNN, self).__init__()\n",
    "        self.num_layers = num_layers\n",
    "        self.hidden_size = hidden_size\n",
    "        self.vocab_size = vocab_size\n",
    "        self.embedding_size = embedding_dim\n",
    "        self.embedding = t.nn.Embedding(vocab_size, embedding_dim=embedding_dim)\n",
    "        self.rnn = t.nn.LSTM(embedding_dim, hidden_size, num_layers, batch_first=True)\n",
    "        self.fc = t.nn.Linear(hidden_size, num_classes)\n",
    "\n",
    "    def forward(self, input):\n",
    "        input = self.embedding(t.tensor(input))\n",
    "        out, _ = self.rnn(input)\n",
    "        out = self.fc(out)\n",
    "        return out\n"
   ]
  },
  {
   "cell_type": "code",
   "execution_count": 150,
   "metadata": {},
   "outputs": [],
   "source": [
    "class TweetsClassifier():\n",
    "    def __init__(self):\n",
    "        pass\n",
    "    def train(self):\n",
    "        pass\n",
    "    def predict(self):\n",
    "        pass"
   ]
  },
  {
   "cell_type": "code",
   "execution_count": 151,
   "metadata": {},
   "outputs": [],
   "source": [
    "class RnnTweetsClassifier(TweetsClassifier):\n",
    "    def __init__(self, dataset, embedding_dim, hidden_size, num_layers, num_classes, epoch_size, learning_rate):\n",
    "        super().__init__()\n",
    "        self.dataset = dataset\n",
    "        self.embedding_dim = embedding_dim\n",
    "        self.epoch_size = epoch_size\n",
    "        self.learning_rate = learning_rate\n",
    "        self.model = RNN(dataset.vocab_size, embedding_dim, hidden_size, num_layers, num_classes)\n",
    "        self.data_loader = DataLoader(dataset=dataset, batch_size=256, shuffle=True)\n",
    "        self.criterion = t.nn.CrossEntropyLoss()\n",
    "        self.optimizer = t.optim.Adam(self.model.parameters(), self.learning_rate)\n",
    "         \n",
    "    def train(self):\n",
    "        for epoch in range(self.epoch_size):\n",
    "            total_model_acc = 0\n",
    "            total_num_samples = 0\n",
    "            for data in self.data_loader:\n",
    "                train_data = data[:][0]\n",
    "                labels = data[:][1]\n",
    "                output = self.model(train_data)\n",
    "                total_model_acc += (t.argmax(output[:, -1, :], dim=1) == labels).sum()\n",
    "                total_num_samples += len(labels)\n",
    "                loss = self.criterion(output[:, -1, :], labels)\n",
    "                self.optimizer.zero_grad()\n",
    "                loss.backward()\n",
    "                self.optimizer.step()\n",
    "            \n",
    "            total_model_acc = total_model_acc / total_num_samples\n",
    "            print(f\"epoch num: {epoch} has accuracy: {100 * total_model_acc}\")\n",
    "\n",
    "    def predict(self, testLoader):\n",
    "        with t.no_grad():\n",
    "            predected = t.tensor([])\n",
    "            real_labels = t.tensor([])\n",
    "            for tweets in testLoader:\n",
    "                test_data = tweets[:][0]\n",
    "                labels = tweets[:][1]\n",
    "                output = self.model(test_data)\n",
    "                predected = t.cat((predected, t.argmax(output[:, -1, :], dim=1)))\n",
    "                real_labels = t.cat((real_labels, labels))\n",
    "            return predected, real_labels\n",
    "            \n"
   ]
  },
  {
   "cell_type": "code",
   "execution_count": 168,
   "metadata": {},
   "outputs": [],
   "source": [
    "class Evaluation():\n",
    "    def __init__(self, predicted, real_labels):\n",
    "        self.pred = predicted\n",
    "        self.labels = real_labels\n",
    "        acc = self.accuracy()\n",
    "        print(f\"Accuracy: {acc}\")\n",
    "\n",
    "    def accuracy(self):\n",
    "        acc = 0\n",
    "        acc = (self.pred == self.labels).sum()\n",
    "        return 100 * acc / len(self.pred)\n",
    "    \n",
    "    def recall(self):\n",
    "        pass"
   ]
  },
  {
   "cell_type": "code",
   "execution_count": 169,
   "metadata": {},
   "outputs": [],
   "source": [
    "# load the dataset and dataloader\n",
    "dataset = StancesDataset('./dataset/train.csv')\n",
    "tweet_classifier = RnnTweetsClassifier(dataset, 50, 50, 2, 3, 10, 0.001)"
   ]
  },
  {
   "cell_type": "code",
   "execution_count": 170,
   "metadata": {},
   "outputs": [
    {
     "name": "stderr",
     "output_type": "stream",
     "text": [
      "C:\\Users\\omara\\AppData\\Local\\Temp\\ipykernel_16192\\642515237.py:13: UserWarning: To copy construct from a tensor, it is recommended to use sourceTensor.clone().detach() or sourceTensor.clone().detach().requires_grad_(True), rather than torch.tensor(sourceTensor).\n",
      "  input = self.embedding(t.tensor(input))\n"
     ]
    },
    {
     "name": "stdout",
     "output_type": "stream",
     "text": [
      "epoch num: 0 has accuracy: 74.04121398925781\n",
      "epoch num: 1 has accuracy: 79.2501449584961\n",
      "epoch num: 2 has accuracy: 79.2501449584961\n",
      "epoch num: 3 has accuracy: 79.2501449584961\n",
      "epoch num: 4 has accuracy: 79.2501449584961\n",
      "epoch num: 5 has accuracy: 79.2501449584961\n",
      "epoch num: 6 has accuracy: 79.2501449584961\n",
      "epoch num: 7 has accuracy: 79.2501449584961\n",
      "epoch num: 8 has accuracy: 79.2501449584961\n",
      "epoch num: 9 has accuracy: 79.2501449584961\n"
     ]
    }
   ],
   "source": [
    "# train the stances model\n",
    "tweet_classifier.train()"
   ]
  },
  {
   "cell_type": "code",
   "execution_count": 171,
   "metadata": {},
   "outputs": [],
   "source": [
    "testset = StancesDataset('./dataset/dev.csv')\n",
    "testloader = DataLoader(dataset=testset, batch_size=256, shuffle=True)"
   ]
  },
  {
   "cell_type": "code",
   "execution_count": 172,
   "metadata": {},
   "outputs": [
    {
     "name": "stderr",
     "output_type": "stream",
     "text": [
      "C:\\Users\\omara\\AppData\\Local\\Temp\\ipykernel_16192\\642515237.py:13: UserWarning: To copy construct from a tensor, it is recommended to use sourceTensor.clone().detach() or sourceTensor.clone().detach().requires_grad_(True), rather than torch.tensor(sourceTensor).\n",
      "  input = self.embedding(t.tensor(input))\n"
     ]
    },
    {
     "name": "stdout",
     "output_type": "stream",
     "text": [
      "Accuracy: 80.4000015258789\n"
     ]
    },
    {
     "data": {
      "text/plain": [
       "<__main__.Evaluation at 0x17148e02c80>"
      ]
     },
     "execution_count": 172,
     "metadata": {},
     "output_type": "execute_result"
    }
   ],
   "source": [
    "predicted, labels = tweet_classifier.predict(testloader)\n",
    "Evaluation(predicted, labels)"
   ]
  },
  {
   "cell_type": "code",
   "execution_count": 141,
   "metadata": {},
   "outputs": [],
   "source": [
    "# load the dataset and dataloader\n",
    "categories_dataset = CategoriesDataset('./dataset/train.csv')\n",
    "gategories_classifier = RnnTweetsClassifier(categories_dataset, 50, 50, 2, 10, 10, 0.001)"
   ]
  },
  {
   "cell_type": "code",
   "execution_count": 142,
   "metadata": {},
   "outputs": [
    {
     "name": "stderr",
     "output_type": "stream",
     "text": [
      "C:\\Users\\omara\\AppData\\Local\\Temp\\ipykernel_16192\\642515237.py:13: UserWarning: To copy construct from a tensor, it is recommended to use sourceTensor.clone().detach() or sourceTensor.clone().detach().requires_grad_(True), rather than torch.tensor(sourceTensor).\n",
      "  input = self.embedding(t.tensor(input))\n"
     ]
    },
    {
     "name": "stdout",
     "output_type": "stream",
     "text": [
      "epoch num: 0 has accuracy: 49.7567253112793\n",
      "epoch num: 1 has accuracy: 51.745849609375\n",
      "epoch num: 2 has accuracy: 51.745849609375\n",
      "epoch num: 3 has accuracy: 51.745849609375\n",
      "epoch num: 4 has accuracy: 51.745849609375\n",
      "epoch num: 5 has accuracy: 51.745849609375\n",
      "epoch num: 6 has accuracy: 51.745849609375\n",
      "epoch num: 7 has accuracy: 51.745849609375\n",
      "epoch num: 8 has accuracy: 51.745849609375\n",
      "epoch num: 9 has accuracy: 51.745849609375\n"
     ]
    }
   ],
   "source": [
    "gategories_classifier.train()"
   ]
  },
  {
   "cell_type": "code",
   "execution_count": 143,
   "metadata": {},
   "outputs": [],
   "source": [
    "categories_testset = CategoriesDataset('./dataset/dev.csv')\n",
    "categories_testloader = DataLoader(dataset=categories_testset, batch_size=256, shuffle=True)"
   ]
  },
  {
   "cell_type": "code",
   "execution_count": 144,
   "metadata": {},
   "outputs": [
    {
     "name": "stderr",
     "output_type": "stream",
     "text": [
      "C:\\Users\\omara\\AppData\\Local\\Temp\\ipykernel_16192\\642515237.py:13: UserWarning: To copy construct from a tensor, it is recommended to use sourceTensor.clone().detach() or sourceTensor.clone().detach().requires_grad_(True), rather than torch.tensor(sourceTensor).\n",
      "  input = self.embedding(t.tensor(input))\n"
     ]
    },
    {
     "name": "stdout",
     "output_type": "stream",
     "text": [
      "Model accuracy: 8.199999809265137\n"
     ]
    }
   ],
   "source": [
    "gategories_classifier.predict(categories_testloader)"
   ]
  },
  {
   "cell_type": "code",
   "execution_count": null,
   "metadata": {},
   "outputs": [],
   "source": []
  }
 ],
 "metadata": {
  "kernelspec": {
   "display_name": "Python 3",
   "language": "python",
   "name": "python3"
  },
  "language_info": {
   "codemirror_mode": {
    "name": "ipython",
    "version": 3
   },
   "file_extension": ".py",
   "mimetype": "text/x-python",
   "name": "python",
   "nbconvert_exporter": "python",
   "pygments_lexer": "ipython3",
   "version": "3.10.2"
  },
  "orig_nbformat": 4,
  "vscode": {
   "interpreter": {
    "hash": "2ce1aa5045122ce61d81150741fc545f0705456a83bb0ce116eee68d33a445e8"
   }
  }
 },
 "nbformat": 4,
 "nbformat_minor": 2
}
