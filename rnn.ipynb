{
 "cells": [
  {
   "cell_type": "code",
   "execution_count": 1,
   "metadata": {},
   "outputs": [
    {
     "name": "stderr",
     "output_type": "stream",
     "text": [
      "c:\\Users\\omara\\AppData\\Local\\Programs\\Python\\Python310\\lib\\site-packages\\tqdm\\auto.py:22: TqdmWarning: IProgress not found. Please update jupyter and ipywidgets. See https://ipywidgets.readthedocs.io/en/stable/user_install.html\n",
      "  from .autonotebook import tqdm as notebook_tqdm\n"
     ]
    }
   ],
   "source": [
    "import torch as t\n",
    "import numpy as np\n",
    "import preprocessing\n",
    "from RNN.classifier import RnnTweetsClassifier, LSTMTweetsClassifier\n",
    "from RNN.tweets_dataset import StancesDataset, CategoriesDataset\n",
    "from torch.utils.data import DataLoader, Dataset\n",
    "from sklearn.metrics import precision_score, f1_score, recall_score, accuracy_score\n",
    "from sklearn.metrics import classification_report"
   ]
  },
  {
   "cell_type": "code",
   "execution_count": 25,
   "metadata": {},
   "outputs": [],
   "source": [
    "# load the dataset and dataloader, train using rnn classifier\n",
    "dataset = StancesDataset('./dataset/train.csv', 'train')\n",
    "tweet_classifier = RnnTweetsClassifier(dataset, 50, 50, 2, 3, 60, 0.001)"
   ]
  },
  {
   "cell_type": "code",
   "execution_count": 26,
   "metadata": {},
   "outputs": [
    {
     "name": "stderr",
     "output_type": "stream",
     "text": [
      "d:\\study affairs\\syllabus\\4th year\\1st semester\\NLP\\project\\Covido\\RNN\\models.py:22: UserWarning: To copy construct from a tensor, it is recommended to use sourceTensor.clone().detach() or sourceTensor.clone().detach().requires_grad_(True), rather than torch.tensor(sourceTensor).\n",
      "  input = self.embedding(t.tensor(input))\n"
     ]
    },
    {
     "name": "stdout",
     "output_type": "stream",
     "text": [
      "epoch num: 0 has accuracy: 78.7435073852539\n",
      "epoch num: 1 has accuracy: 79.24334716796875\n",
      "epoch num: 2 has accuracy: 79.24869537353516\n",
      "epoch num: 3 has accuracy: 79.24956512451172\n",
      "epoch num: 4 has accuracy: 79.24927520751953\n",
      "epoch num: 5 has accuracy: 79.24494171142578\n",
      "epoch num: 6 has accuracy: 79.24681854248047\n",
      "epoch num: 7 has accuracy: 79.2427749633789\n",
      "epoch num: 8 has accuracy: 79.36058044433594\n",
      "epoch num: 9 has accuracy: 79.42461395263672\n",
      "epoch num: 10 has accuracy: 79.48778533935547\n",
      "epoch num: 11 has accuracy: 79.56771087646484\n",
      "epoch num: 12 has accuracy: 79.81792449951172\n",
      "epoch num: 13 has accuracy: 77.09796905517578\n",
      "epoch num: 14 has accuracy: 78.98417663574219\n",
      "epoch num: 15 has accuracy: 81.23045349121094\n",
      "epoch num: 16 has accuracy: 82.54554748535156\n",
      "epoch num: 17 has accuracy: 83.74254608154297\n",
      "epoch num: 18 has accuracy: 83.7927017211914\n",
      "epoch num: 19 has accuracy: 84.6711196899414\n",
      "epoch num: 20 has accuracy: 85.10722351074219\n",
      "epoch num: 21 has accuracy: 84.75250244140625\n",
      "epoch num: 22 has accuracy: 85.376953125\n",
      "epoch num: 23 has accuracy: 85.7300796508789\n",
      "epoch num: 24 has accuracy: 85.97321319580078\n",
      "epoch num: 25 has accuracy: 86.3157958984375\n",
      "epoch num: 26 has accuracy: 86.66848754882812\n",
      "epoch num: 27 has accuracy: 86.22530364990234\n",
      "epoch num: 28 has accuracy: 86.878662109375\n",
      "epoch num: 29 has accuracy: 86.8770751953125\n",
      "epoch num: 30 has accuracy: 87.49038696289062\n",
      "epoch num: 31 has accuracy: 87.66905212402344\n",
      "epoch num: 32 has accuracy: 86.32389068603516\n",
      "epoch num: 33 has accuracy: 87.06368255615234\n",
      "epoch num: 34 has accuracy: 87.76647186279297\n",
      "epoch num: 35 has accuracy: 88.10919189453125\n",
      "epoch num: 36 has accuracy: 87.77297973632812\n",
      "epoch num: 37 has accuracy: 88.30838012695312\n",
      "epoch num: 38 has accuracy: 88.60224914550781\n",
      "epoch num: 39 has accuracy: 88.97012329101562\n",
      "epoch num: 40 has accuracy: 89.0633544921875\n",
      "epoch num: 41 has accuracy: 88.94207763671875\n",
      "epoch num: 42 has accuracy: 89.25820922851562\n",
      "epoch num: 43 has accuracy: 89.88959503173828\n",
      "epoch num: 44 has accuracy: 90.28435516357422\n",
      "epoch num: 45 has accuracy: 90.0091323852539\n",
      "epoch num: 46 has accuracy: 89.0765151977539\n",
      "epoch num: 47 has accuracy: 89.17147827148438\n",
      "epoch num: 48 has accuracy: 89.37948608398438\n",
      "epoch num: 49 has accuracy: 89.9219741821289\n",
      "epoch num: 50 has accuracy: 90.36949157714844\n",
      "epoch num: 51 has accuracy: 89.95883178710938\n",
      "epoch num: 52 has accuracy: 90.17926788330078\n",
      "epoch num: 53 has accuracy: 90.40967559814453\n",
      "epoch num: 54 has accuracy: 90.23405456542969\n",
      "epoch num: 55 has accuracy: 90.43367767333984\n",
      "epoch num: 56 has accuracy: 90.61710357666016\n",
      "epoch num: 57 has accuracy: 91.17939758300781\n",
      "epoch num: 58 has accuracy: 91.2362060546875\n",
      "epoch num: 59 has accuracy: 90.716552734375\n"
     ]
    }
   ],
   "source": [
    "# train the stances model\n",
    "tweet_classifier.train()"
   ]
  },
  {
   "cell_type": "code",
   "execution_count": 27,
   "metadata": {},
   "outputs": [],
   "source": [
    "testset = StancesDataset('./dataset/dev.csv', 'test')\n",
    "testloader = DataLoader(dataset=testset, batch_size=256, shuffle=True)"
   ]
  },
  {
   "cell_type": "code",
   "execution_count": 28,
   "metadata": {},
   "outputs": [
    {
     "name": "stdout",
     "output_type": "stream",
     "text": [
      "              precision    recall  f1-score   support\n",
      "\n",
      "         0.0       0.12      0.28      0.17       126\n",
      "         1.0       0.78      0.56      0.65       804\n",
      "         2.0       0.07      0.13      0.09        70\n",
      "\n",
      "    accuracy                           0.49      1000\n",
      "   macro avg       0.32      0.32      0.30      1000\n",
      "weighted avg       0.65      0.49      0.55      1000\n",
      "\n"
     ]
    },
    {
     "name": "stderr",
     "output_type": "stream",
     "text": [
      "d:\\study affairs\\syllabus\\4th year\\1st semester\\NLP\\project\\Covido\\RNN\\models.py:22: UserWarning: To copy construct from a tensor, it is recommended to use sourceTensor.clone().detach() or sourceTensor.clone().detach().requires_grad_(True), rather than torch.tensor(sourceTensor).\n",
      "  input = self.embedding(t.tensor(input))\n"
     ]
    }
   ],
   "source": [
    "predicted, labels = tweet_classifier.predict(testloader)\n",
    "print(classification_report(labels, predicted))"
   ]
  },
  {
   "cell_type": "code",
   "execution_count": 29,
   "metadata": {},
   "outputs": [],
   "source": [
    "# load the dataset and dataloader\n",
    "categories_dataset = CategoriesDataset('./dataset/train.csv', 'train')\n",
    "gategories_classifier = RnnTweetsClassifier(categories_dataset, 50, 50, 2, 10, 60, 0.001)"
   ]
  },
  {
   "cell_type": "code",
   "execution_count": 30,
   "metadata": {},
   "outputs": [
    {
     "name": "stderr",
     "output_type": "stream",
     "text": [
      "d:\\study affairs\\syllabus\\4th year\\1st semester\\NLP\\project\\Covido\\RNN\\models.py:22: UserWarning: To copy construct from a tensor, it is recommended to use sourceTensor.clone().detach() or sourceTensor.clone().detach().requires_grad_(True), rather than torch.tensor(sourceTensor).\n",
      "  input = self.embedding(t.tensor(input))\n"
     ]
    },
    {
     "name": "stdout",
     "output_type": "stream",
     "text": [
      "epoch num: 0 has accuracy: 47.17018508911133\n",
      "epoch num: 1 has accuracy: 51.557071685791016\n",
      "epoch num: 2 has accuracy: 51.64148712158203\n",
      "epoch num: 3 has accuracy: 51.683406829833984\n",
      "epoch num: 4 has accuracy: 51.69786071777344\n",
      "epoch num: 5 has accuracy: 51.70725631713867\n",
      "epoch num: 6 has accuracy: 51.72069549560547\n",
      "epoch num: 7 has accuracy: 51.724891662597656\n",
      "epoch num: 8 has accuracy: 51.728790283203125\n",
      "epoch num: 9 has accuracy: 51.749610900878906\n",
      "epoch num: 10 has accuracy: 51.78400802612305\n",
      "epoch num: 11 has accuracy: 51.8815803527832\n",
      "epoch num: 12 has accuracy: 52.20420837402344\n",
      "epoch num: 13 has accuracy: 53.4571533203125\n",
      "epoch num: 14 has accuracy: 60.31291580200195\n",
      "epoch num: 15 has accuracy: 63.19086456298828\n",
      "epoch num: 16 has accuracy: 61.75738525390625\n",
      "epoch num: 17 has accuracy: 63.11570358276367\n",
      "epoch num: 18 has accuracy: 64.55221557617188\n",
      "epoch num: 19 has accuracy: 65.00812530517578\n",
      "epoch num: 20 has accuracy: 66.65250396728516\n",
      "epoch num: 21 has accuracy: 66.53209686279297\n",
      "epoch num: 22 has accuracy: 67.49854278564453\n",
      "epoch num: 23 has accuracy: 68.20538330078125\n",
      "epoch num: 24 has accuracy: 66.51604461669922\n",
      "epoch num: 25 has accuracy: 68.38201904296875\n",
      "epoch num: 26 has accuracy: 68.24758911132812\n",
      "epoch num: 27 has accuracy: 68.32723999023438\n",
      "epoch num: 28 has accuracy: 68.67805480957031\n",
      "epoch num: 29 has accuracy: 69.7277603149414\n",
      "epoch num: 30 has accuracy: 68.53971862792969\n",
      "epoch num: 31 has accuracy: 67.09323120117188\n",
      "epoch num: 32 has accuracy: 68.2623291015625\n",
      "epoch num: 33 has accuracy: 70.37360382080078\n",
      "epoch num: 34 has accuracy: 69.96409606933594\n",
      "epoch num: 35 has accuracy: 69.37997436523438\n",
      "epoch num: 36 has accuracy: 69.5545883178711\n",
      "epoch num: 37 has accuracy: 70.90235137939453\n",
      "epoch num: 38 has accuracy: 71.1093521118164\n",
      "epoch num: 39 has accuracy: 70.35191345214844\n",
      "epoch num: 40 has accuracy: 71.46724700927734\n",
      "epoch num: 41 has accuracy: 70.85985565185547\n",
      "epoch num: 42 has accuracy: 71.27080535888672\n",
      "epoch num: 43 has accuracy: 71.04747772216797\n",
      "epoch num: 44 has accuracy: 71.85145568847656\n",
      "epoch num: 45 has accuracy: 71.25765228271484\n",
      "epoch num: 46 has accuracy: 72.6542739868164\n",
      "epoch num: 47 has accuracy: 71.70185089111328\n",
      "epoch num: 48 has accuracy: 72.9387435913086\n",
      "epoch num: 49 has accuracy: 71.48994445800781\n",
      "epoch num: 50 has accuracy: 72.87947845458984\n",
      "epoch num: 51 has accuracy: 72.67537689208984\n",
      "epoch num: 52 has accuracy: 72.91706085205078\n",
      "epoch num: 53 has accuracy: 73.56999206542969\n",
      "epoch num: 54 has accuracy: 73.3343734741211\n",
      "epoch num: 55 has accuracy: 73.73983001708984\n",
      "epoch num: 56 has accuracy: 73.8595199584961\n",
      "epoch num: 57 has accuracy: 74.02429962158203\n",
      "epoch num: 58 has accuracy: 74.41197967529297\n",
      "epoch num: 59 has accuracy: 74.79199981689453\n"
     ]
    }
   ],
   "source": [
    "gategories_classifier.train()"
   ]
  },
  {
   "cell_type": "code",
   "execution_count": 31,
   "metadata": {},
   "outputs": [],
   "source": [
    "categories_testset = CategoriesDataset('./dataset/dev.csv', 'test')\n",
    "categories_testloader = DataLoader(dataset=categories_testset, batch_size=256, shuffle=True)"
   ]
  },
  {
   "cell_type": "code",
   "execution_count": 23,
   "metadata": {},
   "outputs": [
    {
     "name": "stderr",
     "output_type": "stream",
     "text": [
      "d:\\study affairs\\syllabus\\4th year\\1st semester\\NLP\\project\\Covido\\RNN\\models.py:22: UserWarning: To copy construct from a tensor, it is recommended to use sourceTensor.clone().detach() or sourceTensor.clone().detach().requires_grad_(True), rather than torch.tensor(sourceTensor).\n",
      "  input = self.embedding(t.tensor(input))\n"
     ]
    },
    {
     "name": "stdout",
     "output_type": "stream",
     "text": [
      "              precision    recall  f1-score   support\n",
      "\n",
      "         0.0       0.55      1.00      0.71       545\n",
      "         1.0       0.00      0.00      0.00       145\n",
      "         2.0       0.00      0.00      0.00        82\n",
      "         3.0       0.00      0.00      0.00        20\n",
      "         4.0       0.00      0.00      0.00        15\n",
      "         5.0       0.00      0.00      0.00        10\n",
      "         6.0       0.00      0.00      0.00         2\n",
      "         7.0       0.00      0.00      0.00       128\n",
      "         8.0       0.00      0.00      0.00        36\n",
      "         9.0       0.00      0.00      0.00        17\n",
      "\n",
      "    accuracy                           0.55      1000\n",
      "   macro avg       0.05      0.10      0.07      1000\n",
      "weighted avg       0.30      0.55      0.38      1000\n",
      "\n"
     ]
    },
    {
     "name": "stderr",
     "output_type": "stream",
     "text": [
      "c:\\Users\\omara\\AppData\\Local\\Programs\\Python\\Python310\\lib\\site-packages\\sklearn\\metrics\\_classification.py:1318: UndefinedMetricWarning: Precision and F-score are ill-defined and being set to 0.0 in labels with no predicted samples. Use `zero_division` parameter to control this behavior.\n",
      "  _warn_prf(average, modifier, msg_start, len(result))\n",
      "c:\\Users\\omara\\AppData\\Local\\Programs\\Python\\Python310\\lib\\site-packages\\sklearn\\metrics\\_classification.py:1318: UndefinedMetricWarning: Precision and F-score are ill-defined and being set to 0.0 in labels with no predicted samples. Use `zero_division` parameter to control this behavior.\n",
      "  _warn_prf(average, modifier, msg_start, len(result))\n",
      "c:\\Users\\omara\\AppData\\Local\\Programs\\Python\\Python310\\lib\\site-packages\\sklearn\\metrics\\_classification.py:1318: UndefinedMetricWarning: Precision and F-score are ill-defined and being set to 0.0 in labels with no predicted samples. Use `zero_division` parameter to control this behavior.\n",
      "  _warn_prf(average, modifier, msg_start, len(result))\n"
     ]
    }
   ],
   "source": [
    "predicted, labels = gategories_classifier.predict(categories_testloader)\n",
    "print(classification_report(labels, predicted))"
   ]
  },
  {
   "cell_type": "code",
   "execution_count": null,
   "metadata": {},
   "outputs": [],
   "source": []
  }
 ],
 "metadata": {
  "kernelspec": {
   "display_name": "Python 3",
   "language": "python",
   "name": "python3"
  },
  "language_info": {
   "codemirror_mode": {
    "name": "ipython",
    "version": 3
   },
   "file_extension": ".py",
   "mimetype": "text/x-python",
   "name": "python",
   "nbconvert_exporter": "python",
   "pygments_lexer": "ipython3",
   "version": "3.10.2"
  },
  "orig_nbformat": 4,
  "vscode": {
   "interpreter": {
    "hash": "2ce1aa5045122ce61d81150741fc545f0705456a83bb0ce116eee68d33a445e8"
   }
  }
 },
 "nbformat": 4,
 "nbformat_minor": 2
}
