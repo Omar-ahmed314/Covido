{
 "cells": [
  {
   "cell_type": "code",
   "execution_count": 1,
   "metadata": {},
   "outputs": [],
   "source": [
    "import pandas as pd\n",
    "import re\n",
    "import numpy as np\n",
    "from sklearn.feature_extraction.text import CountVectorizer \n",
    "from sklearn.naive_bayes import MultinomialNB\n",
    "from sklearn import metrics\n",
    "from sklearn.svm import SVC\n",
    "from sklearn.ensemble import RandomForestClassifier\n",
    "from sklearn.tree import DecisionTreeClassifier \n",
    "from sklearn.neighbors import KNeighborsClassifier\n",
    "from sklearn.model_selection import cross_val_score\n",
    "from sklearn.model_selection import train_test_split\n",
    "from sklearn.model_selection import validation_curve\n",
    "from sklearn.metrics import ConfusionMatrixDisplay\n",
    "from sklearn.linear_model import LogisticRegression\n",
    "from sklearn.ensemble import GradientBoostingClassifier"
   ]
  },
  {
   "attachments": {},
   "cell_type": "markdown",
   "metadata": {},
   "source": [
    "# BAG OF WORDS"
   ]
  },
  {
   "cell_type": "code",
   "execution_count": 2,
   "metadata": {},
   "outputs": [],
   "source": [
    "#Reading preprocessed data\n",
    "trained_df= pd.read_csv(\"train_processed.csv\") \n",
    "val_df= pd.read_csv(\"val_processed.csv\")\n",
    "\n",
    "#labels for validation dataset\n",
    "val_labels_stances= val_df['stance'].values\n",
    "val_labels_categories= val_df['category'].values\n",
    "\n",
    "#Creating Bag of Words\n",
    "bow= CountVectorizer()\n",
    "\n",
    "#Generate training BOW vectors\n",
    "trained_bow= bow.fit_transform(trained_df['text'])\n",
    "\n",
    "#Generate validation BOW vectors\n",
    "val_bow= bow.transform(val_df['text'])\n",
    "\n",
    "#Generate test BOW vectors"
   ]
  },
  {
   "attachments": {},
   "cell_type": "markdown",
   "metadata": {},
   "source": [
    "# Multinomial Naive Bayes Model"
   ]
  },
  {
   "cell_type": "code",
   "execution_count": 9,
   "metadata": {},
   "outputs": [
    {
     "name": "stdout",
     "output_type": "stream",
     "text": [
      "Accuracy for stance: 82.3 %\n",
      "Accuracy for category: 69.8 %\n"
     ]
    }
   ],
   "source": [
    "#Create Multinomial Naive Bayes model \n",
    "clf= MultinomialNB()\n",
    "\n",
    "#fit the model for stance\n",
    "clf.fit(trained_bow, trained_df['stance'])\n",
    "\n",
    "#predict the model\n",
    "predicted_stance= clf.predict(val_bow) \n",
    "\n",
    "#calculate accuracy\n",
    "print(\"Accuracy for stance:\",metrics.accuracy_score(predicted_stance, val_labels_stances)*100,\"%\")\n",
    "\n",
    "\n",
    "#fit the model for category\n",
    "clf.fit(trained_bow, trained_df['category'])\n",
    "\n",
    "#predict the model\n",
    "predicted_category= clf.predict(val_bow)\n",
    "\n",
    "#calculate accuracy\n",
    "print(\"Accuracy for category:\",metrics.accuracy_score(predicted_category, val_labels_categories)*100,\"%\")"
   ]
  },
  {
   "attachments": {},
   "cell_type": "markdown",
   "metadata": {},
   "source": [
    "# ML models for stance"
   ]
  },
  {
   "cell_type": "code",
   "execution_count": 30,
   "metadata": {},
   "outputs": [
    {
     "name": "stdout",
     "output_type": "stream",
     "text": [
      "SVC()\n",
      "train accuracy: 91.32799084144247\n",
      "validation accuracy: 81.69999999999999\n",
      "------------------------------\n",
      "LogisticRegression()\n"
     ]
    },
    {
     "name": "stderr",
     "output_type": "stream",
     "text": [
      "c:\\Users\\Dell\\AppData\\Local\\Programs\\Python\\Python38\\lib\\site-packages\\sklearn\\linear_model\\_logistic.py:458: ConvergenceWarning: lbfgs failed to converge (status=1):\n",
      "STOP: TOTAL NO. of ITERATIONS REACHED LIMIT.\n",
      "\n",
      "Increase the number of iterations (max_iter) or scale the data as shown in:\n",
      "    https://scikit-learn.org/stable/modules/preprocessing.html\n",
      "Please also refer to the documentation for alternative solver options:\n",
      "    https://scikit-learn.org/stable/modules/linear_model.html#logistic-regression\n",
      "  n_iter_i = _check_optimize_result(\n"
     ]
    },
    {
     "name": "stdout",
     "output_type": "stream",
     "text": [
      "train accuracy: 98.52604464796795\n",
      "validation accuracy: 81.3\n",
      "------------------------------\n",
      "DecisionTreeClassifier()\n",
      "train accuracy: 99.0555237550086\n",
      "validation accuracy: 75.0\n",
      "------------------------------\n",
      "RandomForestClassifier()\n",
      "train accuracy: 99.0555237550086\n",
      "validation accuracy: 80.30000000000001\n",
      "------------------------------\n",
      "GradientBoostingClassifier()\n",
      "train accuracy: 82.32684602175158\n",
      "validation accuracy: 81.39999999999999\n",
      "------------------------------\n",
      "MultinomialNB()\n",
      "train accuracy: 91.97195191757298\n",
      "validation accuracy: 82.3\n",
      "------------------------------\n"
     ]
    }
   ],
   "source": [
    "models=[SVC(),LogisticRegression(),DecisionTreeClassifier(),RandomForestClassifier(),GradientBoostingClassifier()]\n",
    "\n",
    "for model in models:\n",
    "    print(model)\n",
    "    model.fit(trained_bow, trained_df['stance'])\n",
    "    train_score=model.score(trained_bow, trained_df['stance'])*100\n",
    "    test_score=model.score( val_bow , val_labels_stances)*100\n",
    "    print('train accuracy:',train_score)\n",
    "    print('validation accuracy:',test_score)\n",
    "    print('------------------------------')\n"
   ]
  },
  {
   "attachments": {},
   "cell_type": "markdown",
   "metadata": {},
   "source": [
    "# ML models for category"
   ]
  },
  {
   "cell_type": "code",
   "execution_count": 10,
   "metadata": {},
   "outputs": [
    {
     "name": "stdout",
     "output_type": "stream",
     "text": [
      "SVC()\n",
      "train accuracy: 81.26788780767029\n",
      "validation accuracy: 68.60000000000001\n",
      "------------------------------\n",
      "LogisticRegression()\n"
     ]
    },
    {
     "name": "stderr",
     "output_type": "stream",
     "text": [
      "c:\\Users\\Dell\\AppData\\Local\\Programs\\Python\\Python38\\lib\\site-packages\\sklearn\\linear_model\\_logistic.py:458: ConvergenceWarning: lbfgs failed to converge (status=1):\n",
      "STOP: TOTAL NO. of ITERATIONS REACHED LIMIT.\n",
      "\n",
      "Increase the number of iterations (max_iter) or scale the data as shown in:\n",
      "    https://scikit-learn.org/stable/modules/preprocessing.html\n",
      "Please also refer to the documentation for alternative solver options:\n",
      "    https://scikit-learn.org/stable/modules/linear_model.html#logistic-regression\n",
      "  n_iter_i = _check_optimize_result(\n"
     ]
    },
    {
     "name": "stdout",
     "output_type": "stream",
     "text": [
      "train accuracy: 95.70692615912994\n",
      "validation accuracy: 67.10000000000001\n",
      "------------------------------\n",
      "DecisionTreeClassifier()\n",
      "train accuracy: 97.96794504865484\n",
      "validation accuracy: 60.5\n",
      "------------------------------\n",
      "RandomForestClassifier()\n",
      "train accuracy: 97.96794504865484\n",
      "validation accuracy: 67.60000000000001\n",
      "------------------------------\n",
      "GradientBoostingClassifier()\n",
      "train accuracy: 75.3434459072696\n",
      "validation accuracy: 66.4\n",
      "------------------------------\n",
      "MultinomialNB()\n",
      "train accuracy: 81.16771608471666\n",
      "validation accuracy: 69.8\n",
      "------------------------------\n"
     ]
    }
   ],
   "source": [
    "models=[SVC(),LogisticRegression(),DecisionTreeClassifier(),RandomForestClassifier(),GradientBoostingClassifier()]\n",
    "\n",
    "for model in models:\n",
    "    print(model)\n",
    "    model.fit(trained_bow, trained_df['category'].values)\n",
    "    train_score=model.score(trained_bow, trained_df['category'].values)*100\n",
    "    test_score=model.score( val_bow , val_labels_categories)*100\n",
    "    print('train accuracy:',train_score)\n",
    "    print('validation accuracy:',test_score)\n",
    "    print('------------------------------')\n"
   ]
  }
 ],
 "metadata": {
  "kernelspec": {
   "display_name": "Python 3",
   "language": "python",
   "name": "python3"
  },
  "language_info": {
   "codemirror_mode": {
    "name": "ipython",
    "version": 3
   },
   "file_extension": ".py",
   "mimetype": "text/x-python",
   "name": "python",
   "nbconvert_exporter": "python",
   "pygments_lexer": "ipython3",
   "version": "3.8.10"
  },
  "orig_nbformat": 4,
  "vscode": {
   "interpreter": {
    "hash": "bcc88a5c2b6accdcaf39c87a931cb715cc1ab684beb32819a99a5a377f971b8d"
   }
  }
 },
 "nbformat": 4,
 "nbformat_minor": 2
}
