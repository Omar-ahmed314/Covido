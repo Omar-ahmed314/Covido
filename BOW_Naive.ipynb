{
 "cells": [
  {
   "cell_type": "code",
   "execution_count": 8,
   "metadata": {},
   "outputs": [],
   "source": [
    "import pandas as pd\n",
    "import re\n",
    "import numpy as np\n",
    "from sklearn.feature_extraction.text import CountVectorizer \n",
    "from sklearn.naive_bayes import MultinomialNB\n",
    "from sklearn import metrics\n"
   ]
  },
  {
   "attachments": {},
   "cell_type": "markdown",
   "metadata": {},
   "source": [
    "# BAG OF WORDS"
   ]
  },
  {
   "cell_type": "code",
   "execution_count": 9,
   "metadata": {},
   "outputs": [],
   "source": [
    "#Reading preprocessed data\n",
    "trained_df= pd.read_csv(\"train_processed.csv\") \n",
    "val_df= pd.read_csv(\"val_processed.csv\")\n",
    "\n",
    "#labels for validation dataset\n",
    "val_labels_stances= val_df['stance'].values\n",
    "val_labels_categories= val_df['category'].values\n",
    "\n",
    "#Creating Bag of Words\n",
    "bow= CountVectorizer()\n",
    "\n",
    "#Generate training BOW vectors\n",
    "trained_bow= bow.fit_transform(trained_df['text'])\n",
    "\n",
    "#Generate validation BOW vectors\n",
    "val_bow= bow.transform(val_df['text'])\n",
    "\n",
    "#Generate test BOW vectors"
   ]
  },
  {
   "attachments": {},
   "cell_type": "markdown",
   "metadata": {},
   "source": [
    "# Multinomial Naive Bayes Model"
   ]
  },
  {
   "cell_type": "code",
   "execution_count": 12,
   "metadata": {},
   "outputs": [
    {
     "name": "stdout",
     "output_type": "stream",
     "text": [
      "Accuracy for stance: 81.8 %\n"
     ]
    }
   ],
   "source": [
    "#Create Multinomial Naive Bayes model \n",
    "clf= MultinomialNB()\n",
    "\n",
    "#fit the model for stance\n",
    "clf.fit(trained_bow, trained_df['stance'])\n",
    "\n",
    "#predict the model\n",
    "predicted_stance= clf.predict(val_bow) \n",
    "\n",
    "#calculate accuracy\n",
    "print(\"Accuracy for stance:\",metrics.accuracy_score(predicted_stance, val_labels_stances)*100,\"%\")\n",
    "\n",
    "\n",
    "\n",
    "# #fit the model for category\n",
    "# clf.fit(trained_bow, trained_df['category'])\n",
    "\n",
    "# #predict the model\n",
    "# predicted_category= clf.predict(val_bow)\n",
    "\n",
    "# #calculate accuracy\n",
    "# print(\"Accuracy for category:\",metrics.accuracy_score(predicted_category, val_labels_categories)*100,\"%\")"
   ]
  }
 ],
 "metadata": {
  "kernelspec": {
   "display_name": "Python 3",
   "language": "python",
   "name": "python3"
  },
  "language_info": {
   "codemirror_mode": {
    "name": "ipython",
    "version": 3
   },
   "file_extension": ".py",
   "mimetype": "text/x-python",
   "name": "python",
   "nbconvert_exporter": "python",
   "pygments_lexer": "ipython3",
   "version": "3.8.10"
  },
  "orig_nbformat": 4,
  "vscode": {
   "interpreter": {
    "hash": "bcc88a5c2b6accdcaf39c87a931cb715cc1ab684beb32819a99a5a377f971b8d"
   }
  }
 },
 "nbformat": 4,
 "nbformat_minor": 2
}
