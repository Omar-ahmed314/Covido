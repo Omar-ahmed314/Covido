{
 "cells": [
  {
   "cell_type": "code",
   "execution_count": 3,
   "metadata": {},
   "outputs": [],
   "source": [
    "import pandas as pd\n",
    "import re\n",
    "import numpy as np\n",
    "import string\n",
    "from nltk.corpus import stopwords\n",
    "from nltk.tokenize import TweetTokenizer\n",
    "from preprocessing import preprocessDF \n",
    "from sklearn.feature_extraction.text import TfidfTransformer\n",
    "from sklearn.feature_extraction.text import CountVectorizer, TfidfVectorizer\n",
    "from sklearn.pipeline import Pipeline\n",
    "from sklearn.ensemble import RandomForestClassifier,AdaBoostClassifier\n",
    "from sklearn.neighbors import KNeighborsClassifier\n",
    "from sklearn.svm import LinearSVC,SVC\n",
    "from sklearn import metrics\n",
    "from sklearn.metrics import f1_score\n",
    "from sklearn.metrics import classification_report"
   ]
  },
  {
   "cell_type": "code",
   "execution_count": 6,
   "metadata": {},
   "outputs": [],
   "source": [
    "#preprocessing on training data set\n",
    "train_tokens = []\n",
    "train_labels = []\n",
    "train_tokens, train_labels,_ =preprocessDF('./dataset/train.csv', 'train', False,False,False)\n"
   ]
  },
  {
   "cell_type": "code",
   "execution_count": 8,
   "metadata": {},
   "outputs": [],
   "source": [
    "# store tweets after preprocessing in data frame to extract tweets and labels\n",
    "df_train_processed= pd.read_csv(\"train_processed.csv\")\n",
    "train_tweets = df_train_processed['text'].values\n",
    "train_labels= df_train_processed['stance'].values\n",
    "#extract vocabulary from training set\n",
    "vocab =set()\n",
    "#vocab=list(get_vocab(train_tokens))\n",
    "N = len(train_tweets)# no of tweets= 6988\n",
    "#V = len(vocab) # no of unique words= 26843\n",
    "\n"
   ]
  },
  {
   "attachments": {},
   "cell_type": "markdown",
   "metadata": {},
   "source": [
    "# Train and Validation \n"
   ]
  },
  {
   "cell_type": "code",
   "execution_count": 9,
   "metadata": {},
   "outputs": [
    {
     "name": "stdout",
     "output_type": "stream",
     "text": [
      "1000\n"
     ]
    }
   ],
   "source": [
    "# VALIDATION DATA PREPROCESSING\n",
    "val_tokens = []\n",
    "val_labels = []\n",
    "val_tokens, val_labels,_ =preprocessDF('./dataset/dev.csv','val', False,False,False)\n",
    "df_val_processed= pd.read_csv(\"val_processed.csv\")\n",
    "val_tweets = df_val_processed['text'].values\n",
    "val_labels= df_val_processed['stance'].values\n",
    "print(len(val_tweets))"
   ]
  },
  {
   "cell_type": "code",
   "execution_count": 10,
   "metadata": {},
   "outputs": [],
   "source": [
    "vectorizer = TfidfVectorizer()\n",
    "X = vectorizer.fit(train_tweets)#mode\n",
    "train_TFIDF=X.transform(train_tweets)\n",
    "val_TFIDF=X.transform(val_tweets)"
   ]
  },
  {
   "cell_type": "code",
   "execution_count": 11,
   "metadata": {},
   "outputs": [
    {
     "name": "stdout",
     "output_type": "stream",
     "text": [
      "(6988, 26430)\n",
      "(1000, 26430)\n"
     ]
    }
   ],
   "source": [
    "print(train_TFIDF.shape)\n",
    "print(val_TFIDF.shape)"
   ]
  },
  {
   "cell_type": "code",
   "execution_count": null,
   "metadata": {},
   "outputs": [],
   "source": [
    "with open('tfidf-stance-train.npy', 'wb') as f:\n",
    "    np.save(f, train_TFIDF)\n",
    "f.close()  \n",
    "   "
   ]
  },
  {
   "cell_type": "code",
   "execution_count": 19,
   "metadata": {},
   "outputs": [
    {
     "name": "stdout",
     "output_type": "stream",
     "text": [
      "Accuracy: 79.10000000000001 %\n",
      "F-score micro avg 0.791\n",
      "F-score macro avg 0.5363620912745585\n",
      "F-score weighted avg 0.7841049439861677\n",
      "              precision    recall  f1-score   support\n",
      "\n",
      "          -1       0.45      0.27      0.34        70\n",
      "           0       0.38      0.39      0.38       126\n",
      "           1       0.87      0.90      0.89       804\n",
      "\n",
      "    accuracy                           0.79      1000\n",
      "   macro avg       0.57      0.52      0.54      1000\n",
      "weighted avg       0.78      0.79      0.78      1000\n",
      "\n"
     ]
    },
    {
     "name": "stderr",
     "output_type": "stream",
     "text": [
      "c:\\Users\\dell\\AppData\\Local\\Programs\\Python\\Python38-32\\lib\\site-packages\\sklearn\\svm\\_base.py:1206: ConvergenceWarning: Liblinear failed to converge, increase the number of iterations.\n",
      "  warnings.warn(\n"
     ]
    }
   ],
   "source": [
    "clf=LinearSVC(C=200.0, random_state=42)\n",
    "clf.fit(train_TFIDF,train_labels )\n",
    "Y_Predicted=clf.predict(val_TFIDF)\n",
    "print(\"Accuracy:\",metrics.accuracy_score(val_labels, Y_Predicted)*100,\"%\")\n",
    "print(\"F-score micro avg\", f1_score(val_labels ,Y_Predicted,average='micro' ))\n",
    "print(\"F-score macro avg\", f1_score(val_labels ,Y_Predicted,average='macro' ))\n",
    "print(\"F-score weighted avg\", f1_score(val_labels ,Y_Predicted,average='weighted' ))\n",
    "print(classification_report(val_labels, Y_Predicted))"
   ]
  },
  {
   "cell_type": "code",
   "execution_count": 22,
   "metadata": {},
   "outputs": [
    {
     "name": "stdout",
     "output_type": "stream",
     "text": [
      "Accuracy: 77.0 %\n",
      "F-score micro avg 0.7699999999999999\n",
      "F-score macro avg 0.4705668612826657\n",
      "F-score weighted avg 0.7541949444838177\n",
      "              precision    recall  f1-score   support\n",
      "\n",
      "          -1       0.41      0.19      0.25        70\n",
      "           0       0.30      0.27      0.29       126\n",
      "           1       0.84      0.90      0.87       804\n",
      "\n",
      "    accuracy                           0.77      1000\n",
      "   macro avg       0.52      0.45      0.47      1000\n",
      "weighted avg       0.75      0.77      0.75      1000\n",
      "\n"
     ]
    }
   ],
   "source": [
    "clf=AdaBoostClassifier(n_estimators=1000)\n",
    "clf.fit(train_TFIDF,train_labels)\n",
    "Y_Predicted=clf.predict(val_TFIDF)\n",
    "print(\"Accuracy:\",metrics.accuracy_score(val_labels, Y_Predicted)*100,\"%\")\n",
    "print(\"F-score micro avg\", f1_score(val_labels ,Y_Predicted,average='micro' ))\n",
    "print(\"F-score macro avg\", f1_score(val_labels ,Y_Predicted,average='macro' ))\n",
    "print(\"F-score weighted avg\", f1_score(val_labels ,Y_Predicted,average='weighted' ))\n",
    "print(classification_report(val_labels, Y_Predicted))"
   ]
  },
  {
   "cell_type": "code",
   "execution_count": null,
   "metadata": {},
   "outputs": [
    {
     "name": "stdout",
     "output_type": "stream",
     "text": [
      "Accuracy: 82.0 %\n",
      "F-score micro avg 0.82\n",
      "F-score macro avg 0.4728323721718322\n",
      "F-score weighted avg 0.7773782750850529\n",
      "              precision    recall  f1-score   support\n",
      "\n",
      "          -1       0.52      0.16      0.24        70\n",
      "           0       0.55      0.18      0.27       126\n",
      "           1       0.84      0.98      0.90       804\n",
      "\n",
      "    accuracy                           0.82      1000\n",
      "   macro avg       0.64      0.44      0.47      1000\n",
      "weighted avg       0.78      0.82      0.78      1000\n",
      "\n"
     ]
    }
   ],
   "source": [
    "clf=SVC(C=500.0, random_state=42)\n",
    "clf.fit(train_TFIDF,train_labels )\n",
    "Y_Predicted=clf.predict(val_TFIDF)\n",
    "print(\"Accuracy:\",metrics.accuracy_score(val_labels, Y_Predicted)*100,\"%\")\n",
    "print(\"F-score micro avg\", f1_score(val_labels ,Y_Predicted,average='micro' ))\n",
    "print(\"F-score macro avg\", f1_score(val_labels ,Y_Predicted,average='macro' ))\n",
    "print(\"F-score weighted avg\", f1_score(val_labels ,Y_Predicted,average='weighted' ))\n",
    "print(classification_report(val_labels, Y_Predicted))"
   ]
  },
  {
   "cell_type": "code",
   "execution_count": 26,
   "metadata": {},
   "outputs": [
    {
     "name": "stdout",
     "output_type": "stream",
     "text": [
      "Accuracy: 79.5 %\n",
      "F-score micro avg 0.795\n",
      "F-score macro avg 0.5316859221223792\n",
      "F-score weighted avg 0.7860516046213094\n",
      "              precision    recall  f1-score   support\n",
      "\n",
      "          -1       0.41      0.26      0.32        70\n",
      "           0       0.40      0.38      0.39       126\n",
      "           1       0.87      0.91      0.89       804\n",
      "\n",
      "    accuracy                           0.80      1000\n",
      "   macro avg       0.56      0.51      0.53      1000\n",
      "weighted avg       0.78      0.80      0.79      1000\n",
      "\n"
     ]
    },
    {
     "name": "stderr",
     "output_type": "stream",
     "text": [
      "c:\\Users\\dell\\AppData\\Local\\Programs\\Python\\Python38-32\\lib\\site-packages\\sklearn\\svm\\_base.py:1206: ConvergenceWarning: Liblinear failed to converge, increase the number of iterations.\n",
      "  warnings.warn(\n"
     ]
    }
   ],
   "source": [
    "clf=LinearSVC(C=50.0, random_state=42)\n",
    "clf.fit(train_TFIDF,train_labels )\n",
    "Y_Predicted=clf.predict(val_TFIDF)\n",
    "print(\"Accuracy:\",metrics.accuracy_score(val_labels, Y_Predicted)*100,\"%\")\n",
    "print(\"F-score micro avg\", f1_score(val_labels ,Y_Predicted,average='micro' ))\n",
    "print(\"F-score macro avg\", f1_score(val_labels ,Y_Predicted,average='macro' ))\n",
    "print(\"F-score weighted avg\", f1_score(val_labels ,Y_Predicted,average='weighted' ))\n",
    "print(classification_report(val_labels, Y_Predicted))"
   ]
  },
  {
   "cell_type": "code",
   "execution_count": 48,
   "metadata": {},
   "outputs": [
    {
     "name": "stdout",
     "output_type": "stream",
     "text": [
      "Accuracy: 82.0 %\n",
      "F-score micro avg 0.82\n",
      "F-score macro avg 0.4541521182319743\n",
      "F-score weighted avg 0.7702362220986896\n",
      "              precision    recall  f1-score   support\n",
      "\n",
      "          -1       0.62      0.14      0.23        70\n",
      "           0       0.56      0.14      0.23       126\n",
      "           1       0.83      0.99      0.90       804\n",
      "\n",
      "    accuracy                           0.82      1000\n",
      "   macro avg       0.67      0.42      0.45      1000\n",
      "weighted avg       0.78      0.82      0.77      1000\n",
      "\n"
     ]
    }
   ],
   "source": [
    "clf=RandomForestClassifier(n_estimators=1000)\n",
    "clf.fit(train_TFIDF,train_labels)\n",
    "Y_Predicted=clf.predict(val_TFIDF)\n",
    "print(\"Accuracy:\",metrics.accuracy_score(val_labels, Y_Predicted)*100,\"%\")\n",
    "print(\"F-score micro avg\", f1_score(val_labels ,Y_Predicted,average='micro' ))\n",
    "print(\"F-score macro avg\", f1_score(val_labels ,Y_Predicted,average='macro' ))\n",
    "print(\"F-score weighted avg\", f1_score(val_labels ,Y_Predicted,average='weighted' ))\n",
    "print(classification_report(val_labels, Y_Predicted))"
   ]
  },
  {
   "cell_type": "code",
   "execution_count": null,
   "metadata": {},
   "outputs": [],
   "source": []
  },
  {
   "attachments": {},
   "cell_type": "markdown",
   "metadata": {},
   "source": [
    "# TEST TWEETS\n"
   ]
  },
  {
   "cell_type": "code",
   "execution_count": 41,
   "metadata": {},
   "outputs": [],
   "source": [
    "# VALIDATION DATA PREPROCESSING\n",
    "_, _ ,_=preprocessDF('./dataset/dev.csv','test', True,False,False)\n",
    "df_test_processed= pd.read_csv(\"test_processed.csv\")\n",
    "test_tweets = df_test_processed['text'].values\n"
   ]
  },
  {
   "cell_type": "code",
   "execution_count": 42,
   "metadata": {},
   "outputs": [],
   "source": [
    "vectorizer = TfidfVectorizer()\n",
    "model = vectorizer.fit(train_tweets)#mode\n",
    "train_TFIDF=model.transform(train_tweets)\n",
    "test_TFIDF=X.transform(test_tweets)"
   ]
  },
  {
   "cell_type": "code",
   "execution_count": 43,
   "metadata": {},
   "outputs": [
    {
     "name": "stderr",
     "output_type": "stream",
     "text": [
      "c:\\Users\\dell\\AppData\\Local\\Programs\\Python\\Python38-32\\lib\\site-packages\\sklearn\\svm\\_base.py:1206: ConvergenceWarning: Liblinear failed to converge, increase the number of iterations.\n",
      "  warnings.warn(\n"
     ]
    }
   ],
   "source": [
    "clf=LinearSVC(C=50.0, random_state=42)\n",
    "clf.fit(train_TFIDF,train_labels )\n",
    "Y_test=clf.predict(test_TFIDF)"
   ]
  },
  {
   "cell_type": "code",
   "execution_count": 47,
   "metadata": {},
   "outputs": [],
   "source": [
    "# write the predicted data to a csv file\n",
    "predicted_stances = list(map(lambda x: -1 if x == 2 else int(x), Y_test))\n",
    "d = {'stances': predicted_stances}\n",
    "test_csv = pd.DataFrame(data=d, columns=['stances'])\n",
    "test_csv.to_csv('result.csv')"
   ]
  },
  {
   "cell_type": "code",
   "execution_count": 46,
   "metadata": {},
   "outputs": [
    {
     "name": "stdout",
     "output_type": "stream",
     "text": [
      "['بيل غيتس يتلقى لقاح كورونا تصوير الابره السيرنجه الدواء لابس بولو صيفي عز الشتاء يقول ان احدى مزايا عمر ال عام انه مؤهل للحصول اللقاح يعنى يحتاج اللقاح عمره اصغر'\n",
      " 'وزير الصحه لحد اليوم وتحديدا هلأ بمؤتمروا الصحفي عندي مشكله معوا انوا بفايزر اللقاح الوحيد الآمن بالعالم لأ حبيبي هاي نفاق واضح عفوا يعني مش انوا مجبورين قادر تجبر الدوله المارقه تدفع مصاري تجيب لقاح تاني يلا باي'\n",
      " 'قولكن رح يكونو اد المسؤوليه لبنان يوصل اللقاح الفي جرعه لقاح كورونا للتلف مستشفى بوسطن لأن عامل النظافه وقف طريق الخطأ عمل الثلاجه حفظت لقاح كورونا'\n",
      " ... 'الجرعه الاولى لقاح كورونا ممتاز'\n",
      " 'حظر خامنئي اللقاحات الغربيه طهران بصدد اجازه تجربه لقاح كوبي الإيرانيين'\n",
      " 'تصاعد القلق اثر حالات وفاه متلقي لقاح بيونتيك وفايزر اكدت وكاله الأدويه التابعه للاتحاد الأوروبي ان الوفيات علاقه باللقاح']\n"
     ]
    }
   ],
   "source": [
    "\n",
    "# print(Y_test)\n",
    "# df_test_processed2 = df_test_processed.assign(TutorsAssigned=Y_test)\n",
    "# # df_test_processed.insert(\"stance\",Y_test)\n",
    "print(df_train_processed.text.values)"
   ]
  }
 ],
 "metadata": {
  "kernelspec": {
   "display_name": "Python 3",
   "language": "python",
   "name": "python3"
  },
  "language_info": {
   "codemirror_mode": {
    "name": "ipython",
    "version": 3
   },
   "file_extension": ".py",
   "mimetype": "text/x-python",
   "name": "python",
   "nbconvert_exporter": "python",
   "pygments_lexer": "ipython3",
   "version": "3.8.2 (tags/v3.8.2:7b3ab59, Feb 25 2020, 22:45:29) [MSC v.1916 32 bit (Intel)]"
  },
  "orig_nbformat": 4,
  "vscode": {
   "interpreter": {
    "hash": "cad911e89c9cd81e6830ed7e3dceb0d7faa858acac22c42d691ca01e2d61a3cf"
   }
  }
 },
 "nbformat": 4,
 "nbformat_minor": 2
}
