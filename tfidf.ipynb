{
 "cells": [
  {
   "cell_type": "code",
   "execution_count": 18,
   "metadata": {},
   "outputs": [],
   "source": [
    "import pandas as pd\n",
    "import re\n",
    "import numpy as np\n",
    "import string\n",
    "from nltk.corpus import stopwords\n",
    "from nltk.tokenize import TweetTokenizer\n",
    "from preprocessing import preprocessDF \n",
    "from sklearn.feature_extraction.text import TfidfTransformer\n",
    "from sklearn.feature_extraction.text import CountVectorizer, TfidfVectorizer\n",
    "from sklearn.pipeline import Pipeline\n",
    "from sklearn.ensemble import RandomForestClassifier,AdaBoostClassifier\n",
    "from sklearn.neighbors import KNeighborsClassifier\n",
    "from sklearn.svm import LinearSVC,SVC\n",
    "from sklearn import metrics\n",
    "from sklearn.metrics import f1_score\n",
    "from sklearn.metrics import classification_report"
   ]
  },
  {
   "cell_type": "code",
   "execution_count": 19,
   "metadata": {},
   "outputs": [],
   "source": [
    "#preprocessing on training data set\n",
    "train_tokens = []\n",
    "train_labels = []\n",
    "train_tokens, _,train_labels =preprocessDF('./dataset/train.csv', 'train',False,False,False,)\n"
   ]
  },
  {
   "cell_type": "code",
   "execution_count": 20,
   "metadata": {},
   "outputs": [],
   "source": [
    "# store tweets after preprocessing in data frame to extract tweets and labels\n",
    "df_train_processed= pd.read_csv(\"train_processed.csv\")\n",
    "train_tweets = df_train_processed['text'].values\n",
    "train_stance_labels= df_train_processed['stance'].values\n",
    "train_cat_labels= df_train_processed['category'].values"
   ]
  },
  {
   "attachments": {},
   "cell_type": "markdown",
   "metadata": {},
   "source": [
    "# Train and Validation \n"
   ]
  },
  {
   "cell_type": "code",
   "execution_count": 21,
   "metadata": {},
   "outputs": [],
   "source": [
    "# VALIDATION DATA PREPROCESSING\n",
    "val_tokens = []\n",
    "val_labels = []\n",
    "val_tokens,_, val_labels =preprocessDF('./dataset/dev.csv','val',False,False,False)\n",
    "df_val_processed= pd.read_csv(\"val_processed.csv\")\n",
    "val_tweets = df_val_processed['text'].values\n",
    "val_stance_labels= df_val_processed['stance'].values\n",
    "val_cat_labels= df_val_processed['category'].values"
   ]
  },
  {
   "cell_type": "code",
   "execution_count": 22,
   "metadata": {},
   "outputs": [],
   "source": [
    "vectorizer = TfidfVectorizer()\n",
    "X = vectorizer.fit(train_tweets)#mode\n",
    "train_TFIDF=X.transform(train_tweets)\n",
    "val_TFIDF=X.transform(val_tweets)"
   ]
  },
  {
   "cell_type": "code",
   "execution_count": 23,
   "metadata": {},
   "outputs": [
    {
     "name": "stdout",
     "output_type": "stream",
     "text": [
      "(6988, 26430)\n",
      "(1000, 26430)\n"
     ]
    }
   ],
   "source": [
    "print(train_TFIDF.shape)\n",
    "print(val_TFIDF.shape)"
   ]
  },
  {
   "cell_type": "code",
   "execution_count": 24,
   "metadata": {},
   "outputs": [],
   "source": [
    "with open('tfidf-stance-train.npy', 'wb') as f:\n",
    "    np.save(f, train_TFIDF)\n",
    "f.close()  "
   ]
  },
  {
   "attachments": {},
   "cell_type": "markdown",
   "metadata": {},
   "source": [
    "# stance validation"
   ]
  },
  {
   "cell_type": "code",
   "execution_count": 26,
   "metadata": {},
   "outputs": [
    {
     "name": "stdout",
     "output_type": "stream",
     "text": [
      "              precision    recall  f1-score   support\n",
      "\n",
      "          -1       0.41      0.26      0.32        70\n",
      "           0       0.40      0.38      0.39       126\n",
      "           1       0.87      0.91      0.89       804\n",
      "\n",
      "    accuracy                           0.80      1000\n",
      "   macro avg       0.56      0.51      0.53      1000\n",
      "weighted avg       0.78      0.80      0.79      1000\n",
      "\n"
     ]
    },
    {
     "name": "stderr",
     "output_type": "stream",
     "text": [
      "c:\\Users\\dell\\AppData\\Local\\Programs\\Python\\Python38-32\\lib\\site-packages\\sklearn\\svm\\_base.py:1206: ConvergenceWarning: Liblinear failed to converge, increase the number of iterations.\n",
      "  warnings.warn(\n"
     ]
    }
   ],
   "source": [
    "clf=LinearSVC(C=50.0, random_state=42)\n",
    "clf.fit(train_TFIDF,train_stance_labels )\n",
    "Y_Predicted=clf.predict(val_TFIDF)\n",
    "print(classification_report(val_stance_labels, Y_Predicted))"
   ]
  },
  {
   "cell_type": "code",
   "execution_count": 28,
   "metadata": {},
   "outputs": [
    {
     "name": "stdout",
     "output_type": "stream",
     "text": [
      "              precision    recall  f1-score   support\n",
      "\n",
      "          -1       0.31      0.11      0.17        70\n",
      "           0       0.31      0.13      0.19       126\n",
      "           1       0.83      0.95      0.88       804\n",
      "\n",
      "    accuracy                           0.79      1000\n",
      "   macro avg       0.48      0.40      0.41      1000\n",
      "weighted avg       0.73      0.79      0.74      1000\n",
      "\n"
     ]
    }
   ],
   "source": [
    "clf=AdaBoostClassifier(n_estimators=370)\n",
    "clf.fit(train_TFIDF,train_stance_labels)\n",
    "Y_Predicted=clf.predict(val_TFIDF)\n",
    "print(classification_report(val_stance_labels, Y_Predicted))"
   ]
  },
  {
   "cell_type": "code",
   "execution_count": 29,
   "metadata": {},
   "outputs": [
    {
     "name": "stdout",
     "output_type": "stream",
     "text": [
      "              precision    recall  f1-score   support\n",
      "\n",
      "          -1       0.52      0.16      0.24        70\n",
      "           0       0.50      0.20      0.28       126\n",
      "           1       0.84      0.97      0.90       804\n",
      "\n",
      "    accuracy                           0.82      1000\n",
      "   macro avg       0.62      0.44      0.48      1000\n",
      "weighted avg       0.78      0.82      0.78      1000\n",
      "\n"
     ]
    }
   ],
   "source": [
    "clf=SVC(C=500.0, random_state=42)\n",
    "clf.fit(train_TFIDF,train_stance_labels )\n",
    "Y_Predicted=clf.predict(val_TFIDF)\n",
    "print(classification_report(val_stance_labels, Y_Predicted))"
   ]
  },
  {
   "cell_type": "code",
   "execution_count": 35,
   "metadata": {},
   "outputs": [
    {
     "name": "stdout",
     "output_type": "stream",
     "text": [
      "              precision    recall  f1-score   support\n",
      "\n",
      "          -1       0.62      0.14      0.23        70\n",
      "           0       0.58      0.14      0.23       126\n",
      "           1       0.83      0.99      0.90       804\n",
      "\n",
      "    accuracy                           0.82      1000\n",
      "   macro avg       0.68      0.42      0.45      1000\n",
      "weighted avg       0.79      0.82      0.77      1000\n",
      "\n"
     ]
    }
   ],
   "source": [
    "clf=RandomForestClassifier(n_estimators=2500)\n",
    "clf.fit(train_TFIDF,train_stance_labels)\n",
    "Y_Predicted=clf.predict(val_TFIDF)\n",
    "print(classification_report(val_stance_labels, Y_Predicted))"
   ]
  },
  {
   "attachments": {},
   "cell_type": "markdown",
   "metadata": {},
   "source": [
    "# category validation"
   ]
  },
  {
   "cell_type": "code",
   "execution_count": 33,
   "metadata": {},
   "outputs": [
    {
     "name": "stdout",
     "output_type": "stream",
     "text": [
      "              precision    recall  f1-score   support\n",
      "\n",
      "           0       0.71      0.72      0.71       545\n",
      "           1       0.78      0.79      0.79       145\n",
      "           2       0.14      0.17      0.15        82\n",
      "           3       0.14      0.10      0.12        20\n",
      "           4       0.25      0.07      0.11        15\n",
      "           5       0.40      0.20      0.27        10\n",
      "           6       0.00      0.00      0.00         2\n",
      "           7       0.51      0.52      0.52       128\n",
      "           8       0.41      0.33      0.37        36\n",
      "           9       0.08      0.06      0.07        17\n",
      "\n",
      "    accuracy                           0.60      1000\n",
      "   macro avg       0.34      0.30      0.31      1000\n",
      "weighted avg       0.60      0.60      0.60      1000\n",
      "\n"
     ]
    },
    {
     "name": "stderr",
     "output_type": "stream",
     "text": [
      "c:\\Users\\dell\\AppData\\Local\\Programs\\Python\\Python38-32\\lib\\site-packages\\sklearn\\svm\\_base.py:1206: ConvergenceWarning: Liblinear failed to converge, increase the number of iterations.\n",
      "  warnings.warn(\n",
      "c:\\Users\\dell\\AppData\\Local\\Programs\\Python\\Python38-32\\lib\\site-packages\\sklearn\\metrics\\_classification.py:1318: UndefinedMetricWarning: Precision and F-score are ill-defined and being set to 0.0 in labels with no predicted samples. Use `zero_division` parameter to control this behavior.\n",
      "  _warn_prf(average, modifier, msg_start, len(result))\n",
      "c:\\Users\\dell\\AppData\\Local\\Programs\\Python\\Python38-32\\lib\\site-packages\\sklearn\\metrics\\_classification.py:1318: UndefinedMetricWarning: Precision and F-score are ill-defined and being set to 0.0 in labels with no predicted samples. Use `zero_division` parameter to control this behavior.\n",
      "  _warn_prf(average, modifier, msg_start, len(result))\n",
      "c:\\Users\\dell\\AppData\\Local\\Programs\\Python\\Python38-32\\lib\\site-packages\\sklearn\\metrics\\_classification.py:1318: UndefinedMetricWarning: Precision and F-score are ill-defined and being set to 0.0 in labels with no predicted samples. Use `zero_division` parameter to control this behavior.\n",
      "  _warn_prf(average, modifier, msg_start, len(result))\n"
     ]
    }
   ],
   "source": [
    "clf=LinearSVC(C=50.0, random_state=42)\n",
    "clf.fit(train_TFIDF,train_cat_labels )\n",
    "Y_Predicted=clf.predict(val_TFIDF)\n",
    "print(classification_report(val_cat_labels, Y_Predicted))"
   ]
  },
  {
   "cell_type": "code",
   "execution_count": 34,
   "metadata": {},
   "outputs": [
    {
     "name": "stdout",
     "output_type": "stream",
     "text": [
      "              precision    recall  f1-score   support\n",
      "\n",
      "           0       0.61      0.98      0.75       545\n",
      "           1       0.86      0.70      0.77       145\n",
      "           2       0.00      0.00      0.00        82\n",
      "           3       0.00      0.00      0.00        20\n",
      "           4       0.00      0.00      0.00        15\n",
      "           5       0.00      0.00      0.00        10\n",
      "           6       0.00      0.00      0.00         2\n",
      "           7       1.00      0.01      0.02       128\n",
      "           8       0.00      0.00      0.00        36\n",
      "           9       0.00      0.00      0.00        17\n",
      "\n",
      "    accuracy                           0.63      1000\n",
      "   macro avg       0.25      0.17      0.15      1000\n",
      "weighted avg       0.58      0.63      0.52      1000\n",
      "\n"
     ]
    },
    {
     "name": "stderr",
     "output_type": "stream",
     "text": [
      "c:\\Users\\dell\\AppData\\Local\\Programs\\Python\\Python38-32\\lib\\site-packages\\sklearn\\metrics\\_classification.py:1318: UndefinedMetricWarning: Precision and F-score are ill-defined and being set to 0.0 in labels with no predicted samples. Use `zero_division` parameter to control this behavior.\n",
      "  _warn_prf(average, modifier, msg_start, len(result))\n",
      "c:\\Users\\dell\\AppData\\Local\\Programs\\Python\\Python38-32\\lib\\site-packages\\sklearn\\metrics\\_classification.py:1318: UndefinedMetricWarning: Precision and F-score are ill-defined and being set to 0.0 in labels with no predicted samples. Use `zero_division` parameter to control this behavior.\n",
      "  _warn_prf(average, modifier, msg_start, len(result))\n",
      "c:\\Users\\dell\\AppData\\Local\\Programs\\Python\\Python38-32\\lib\\site-packages\\sklearn\\metrics\\_classification.py:1318: UndefinedMetricWarning: Precision and F-score are ill-defined and being set to 0.0 in labels with no predicted samples. Use `zero_division` parameter to control this behavior.\n",
      "  _warn_prf(average, modifier, msg_start, len(result))\n"
     ]
    }
   ],
   "source": [
    "clf=AdaBoostClassifier(n_estimators=370)\n",
    "clf.fit(train_TFIDF,train_cat_labels)\n",
    "Y_Predicted=clf.predict(val_TFIDF)\n",
    "print(classification_report(val_cat_labels, Y_Predicted))\n"
   ]
  },
  {
   "cell_type": "code",
   "execution_count": 32,
   "metadata": {},
   "outputs": [
    {
     "name": "stdout",
     "output_type": "stream",
     "text": [
      "              precision    recall  f1-score   support\n",
      "\n",
      "           0       0.69      0.90      0.78       545\n",
      "           1       0.89      0.77      0.83       145\n",
      "           2       0.24      0.07      0.11        82\n",
      "           3       0.25      0.05      0.08        20\n",
      "           4       0.00      0.00      0.00        15\n",
      "           5       1.00      0.20      0.33        10\n",
      "           6       0.00      0.00      0.00         2\n",
      "           7       0.59      0.49      0.54       128\n",
      "           8       0.56      0.28      0.37        36\n",
      "           9       0.14      0.06      0.08        17\n",
      "\n",
      "    accuracy                           0.68      1000\n",
      "   macro avg       0.44      0.28      0.31      1000\n",
      "weighted avg       0.64      0.68      0.64      1000\n",
      "\n"
     ]
    },
    {
     "name": "stderr",
     "output_type": "stream",
     "text": [
      "c:\\Users\\dell\\AppData\\Local\\Programs\\Python\\Python38-32\\lib\\site-packages\\sklearn\\metrics\\_classification.py:1318: UndefinedMetricWarning: Precision and F-score are ill-defined and being set to 0.0 in labels with no predicted samples. Use `zero_division` parameter to control this behavior.\n",
      "  _warn_prf(average, modifier, msg_start, len(result))\n",
      "c:\\Users\\dell\\AppData\\Local\\Programs\\Python\\Python38-32\\lib\\site-packages\\sklearn\\metrics\\_classification.py:1318: UndefinedMetricWarning: Precision and F-score are ill-defined and being set to 0.0 in labels with no predicted samples. Use `zero_division` parameter to control this behavior.\n",
      "  _warn_prf(average, modifier, msg_start, len(result))\n",
      "c:\\Users\\dell\\AppData\\Local\\Programs\\Python\\Python38-32\\lib\\site-packages\\sklearn\\metrics\\_classification.py:1318: UndefinedMetricWarning: Precision and F-score are ill-defined and being set to 0.0 in labels with no predicted samples. Use `zero_division` parameter to control this behavior.\n",
      "  _warn_prf(average, modifier, msg_start, len(result))\n"
     ]
    }
   ],
   "source": [
    "clf=SVC(C=500.0, random_state=42)\n",
    "clf.fit(train_TFIDF,train_cat_labels )\n",
    "Y_Predicted=clf.predict(val_TFIDF)\n",
    "print(classification_report(val_cat_labels, Y_Predicted))"
   ]
  }
 ],
 "metadata": {
  "kernelspec": {
   "display_name": "Python 3",
   "language": "python",
   "name": "python3"
  },
  "language_info": {
   "codemirror_mode": {
    "name": "ipython",
    "version": 3
   },
   "file_extension": ".py",
   "mimetype": "text/x-python",
   "name": "python",
   "nbconvert_exporter": "python",
   "pygments_lexer": "ipython3",
   "version": "3.8.2"
  },
  "orig_nbformat": 4,
  "vscode": {
   "interpreter": {
    "hash": "cad911e89c9cd81e6830ed7e3dceb0d7faa858acac22c42d691ca01e2d61a3cf"
   }
  }
 },
 "nbformat": 4,
 "nbformat_minor": 2
}
