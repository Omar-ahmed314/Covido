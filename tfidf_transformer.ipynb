{
 "cells": [
  {
   "cell_type": "code",
   "execution_count": 30,
   "metadata": {},
   "outputs": [],
   "source": [
    "import pandas as pd\n",
    "import re\n",
    "import numpy as np\n",
    "import string\n",
    "from nltk.corpus import stopwords\n",
    "from nltk.tokenize import TweetTokenizer\n",
    "from preprocssing import preprocessDF , get_vocab\n",
    "from sklearn.feature_extraction.text import TfidfTransformer\n",
    "from sklearn.feature_extraction.text import CountVectorizer\n",
    "from sklearn.pipeline import Pipeline"
   ]
  },
  {
   "cell_type": "code",
   "execution_count": 31,
   "metadata": {},
   "outputs": [],
   "source": [
    "tokens = []\n",
    "labels = []\n",
    "tokens, labels =preprocessDF('train.csv')\n"
   ]
  },
  {
   "cell_type": "code",
   "execution_count": 32,
   "metadata": {},
   "outputs": [],
   "source": [
    "df_processed= pd.read_csv(\"processed.csv\")\n",
    "train_tweets = df_processed['text'].values\n",
    "train_labels= df_processed['stance'].values\n",
    "vocab =set()\n",
    "vocab=list(get_vocab(tokens))\n",
    "N = len(train_tweets)# no of tweets\n",
    "V = len(vocab)\n"
   ]
  },
  {
   "cell_type": "code",
   "execution_count": 34,
   "metadata": {},
   "outputs": [
    {
     "name": "stdout",
     "output_type": "stream",
     "text": [
      "26843\n",
      "6988\n"
     ]
    }
   ],
   "source": [
    "print(V)\n",
    "print(N)"
   ]
  },
  {
   "cell_type": "code",
   "execution_count": 35,
   "metadata": {},
   "outputs": [
    {
     "name": "stdout",
     "output_type": "stream",
     "text": [
      "(6988, 27078)\n"
     ]
    }
   ],
   "source": [
    "#instantiate CountVectorizer() \n",
    "cv=CountVectorizer() \n",
    "# this steps generates word counts for the words in your docs \n",
    "#create tf matrix of size (N*V) \n",
    "word_count_vector=cv.fit_transform(train_tweets)\n",
    "print(word_count_vector.shape)\n"
   ]
  },
  {
   "cell_type": "code",
   "execution_count": 36,
   "metadata": {},
   "outputs": [
    {
     "data": {
      "text/plain": [
       "TfidfTransformer()"
      ]
     },
     "execution_count": 36,
     "metadata": {},
     "output_type": "execute_result"
    }
   ],
   "source": [
    "#idf(t) = log [ n / df(t) ] + 1  \n",
    "# smoothed ->, terms that occur in all documents in a training set, will not be entirely ignored.\n",
    "tfidf_transformer=TfidfTransformer(smooth_idf=True,use_idf=True) \n",
    "tfidf_transformer.fit(word_count_vector)"
   ]
  },
  {
   "cell_type": "code",
   "execution_count": 37,
   "metadata": {},
   "outputs": [
    {
     "name": "stderr",
     "output_type": "stream",
     "text": [
      "c:\\Users\\dell\\AppData\\Local\\Programs\\Python\\Python38-32\\lib\\site-packages\\sklearn\\utils\\deprecation.py:87: FutureWarning: Function get_feature_names is deprecated; get_feature_names is deprecated in 1.0 and will be removed in 1.2. Please use get_feature_names_out instead.\n",
      "  warnings.warn(msg, category=FutureWarning)\n"
     ]
    },
    {
     "data": {
      "text/html": [
       "<div>\n",
       "<style scoped>\n",
       "    .dataframe tbody tr th:only-of-type {\n",
       "        vertical-align: middle;\n",
       "    }\n",
       "\n",
       "    .dataframe tbody tr th {\n",
       "        vertical-align: top;\n",
       "    }\n",
       "\n",
       "    .dataframe thead th {\n",
       "        text-align: right;\n",
       "    }\n",
       "</style>\n",
       "<table border=\"1\" class=\"dataframe\">\n",
       "  <thead>\n",
       "    <tr style=\"text-align: right;\">\n",
       "      <th></th>\n",
       "      <th>idf_weights</th>\n",
       "    </tr>\n",
       "  </thead>\n",
       "  <tbody>\n",
       "    <tr>\n",
       "      <th>لقاح</th>\n",
       "      <td>1.106649</td>\n",
       "    </tr>\n",
       "    <tr>\n",
       "      <th>كورونا</th>\n",
       "      <td>1.422857</td>\n",
       "    </tr>\n",
       "    <tr>\n",
       "      <th>من</th>\n",
       "      <td>1.692718</td>\n",
       "    </tr>\n",
       "    <tr>\n",
       "      <th>في</th>\n",
       "      <td>2.069702</td>\n",
       "    </tr>\n",
       "    <tr>\n",
       "      <th>على</th>\n",
       "      <td>2.409014</td>\n",
       "    </tr>\n",
       "    <tr>\n",
       "      <th>...</th>\n",
       "      <td>...</td>\n",
       "    </tr>\n",
       "    <tr>\n",
       "      <th>جهلها</th>\n",
       "      <td>9.158946</td>\n",
       "    </tr>\n",
       "    <tr>\n",
       "      <th>جهزي</th>\n",
       "      <td>9.158946</td>\n",
       "    </tr>\n",
       "    <tr>\n",
       "      <th>جهتي</th>\n",
       "      <td>9.158946</td>\n",
       "    </tr>\n",
       "    <tr>\n",
       "      <th>جوارنا</th>\n",
       "      <td>9.158946</td>\n",
       "    </tr>\n",
       "    <tr>\n",
       "      <th>ﻹيصال</th>\n",
       "      <td>9.158946</td>\n",
       "    </tr>\n",
       "  </tbody>\n",
       "</table>\n",
       "<p>27078 rows × 1 columns</p>\n",
       "</div>"
      ],
      "text/plain": [
       "        idf_weights\n",
       "لقاح       1.106649\n",
       "كورونا     1.422857\n",
       "من         1.692718\n",
       "في         2.069702\n",
       "على        2.409014\n",
       "...             ...\n",
       "جهلها      9.158946\n",
       "جهزي       9.158946\n",
       "جهتي       9.158946\n",
       "جوارنا     9.158946\n",
       "ﻹيصال      9.158946\n",
       "\n",
       "[27078 rows x 1 columns]"
      ]
     },
     "execution_count": 37,
     "metadata": {},
     "output_type": "execute_result"
    }
   ],
   "source": [
    "# print idf values \n",
    "df_idf = pd.DataFrame(tfidf_transformer.idf_, index=cv.get_feature_names(),columns=[\"idf_weights\"]) \n",
    "# sort ascending \n",
    "df_idf.sort_values(by=['idf_weights'])"
   ]
  },
  {
   "cell_type": "code",
   "execution_count": 38,
   "metadata": {},
   "outputs": [],
   "source": [
    "# compute TF for each tweet that generate Matrix of size (N*V) \n",
    "# each row represent a tweet, each col a word the cell has count of this word in that tweet\n",
    "count_vector=cv.transform(train_tweets) \n",
    "#print(count_vector.shape)\n",
    "# tf-idf scores using TF matrix and IDFs valued that we fit the tfidf_transformer object using it\n",
    "tf_idf_train=tfidf_transformer.transform(count_vector)"
   ]
  },
  {
   "cell_type": "code",
   "execution_count": 39,
   "metadata": {},
   "outputs": [
    {
     "name": "stderr",
     "output_type": "stream",
     "text": [
      "c:\\Users\\dell\\AppData\\Local\\Programs\\Python\\Python38-32\\lib\\site-packages\\sklearn\\utils\\deprecation.py:87: FutureWarning: Function get_feature_names is deprecated; get_feature_names is deprecated in 1.0 and will be removed in 1.2. Please use get_feature_names_out instead.\n",
      "  warnings.warn(msg, category=FutureWarning)\n"
     ]
    },
    {
     "data": {
      "text/html": [
       "<div>\n",
       "<style scoped>\n",
       "    .dataframe tbody tr th:only-of-type {\n",
       "        vertical-align: middle;\n",
       "    }\n",
       "\n",
       "    .dataframe tbody tr th {\n",
       "        vertical-align: top;\n",
       "    }\n",
       "\n",
       "    .dataframe thead th {\n",
       "        text-align: right;\n",
       "    }\n",
       "</style>\n",
       "<table border=\"1\" class=\"dataframe\">\n",
       "  <thead>\n",
       "    <tr style=\"text-align: right;\">\n",
       "      <th></th>\n",
       "      <th>tfidf</th>\n",
       "    </tr>\n",
       "  </thead>\n",
       "  <tbody>\n",
       "    <tr>\n",
       "      <th>كان</th>\n",
       "      <td>0.237688</td>\n",
       "    </tr>\n",
       "    <tr>\n",
       "      <th>السيرنجه</th>\n",
       "      <td>0.225750</td>\n",
       "    </tr>\n",
       "    <tr>\n",
       "      <th>صيفي</th>\n",
       "      <td>0.225750</td>\n",
       "    </tr>\n",
       "    <tr>\n",
       "      <th>بولو</th>\n",
       "      <td>0.225750</td>\n",
       "    </tr>\n",
       "    <tr>\n",
       "      <th>مزايا</th>\n",
       "      <td>0.225750</td>\n",
       "    </tr>\n",
       "    <tr>\n",
       "      <th>...</th>\n",
       "      <td>...</td>\n",
       "    </tr>\n",
       "    <tr>\n",
       "      <th>بلغثيان</th>\n",
       "      <td>0.000000</td>\n",
       "    </tr>\n",
       "    <tr>\n",
       "      <th>بلغت</th>\n",
       "      <td>0.000000</td>\n",
       "    </tr>\n",
       "    <tr>\n",
       "      <th>بلغ</th>\n",
       "      <td>0.000000</td>\n",
       "    </tr>\n",
       "    <tr>\n",
       "      <th>بلعيبه</th>\n",
       "      <td>0.000000</td>\n",
       "    </tr>\n",
       "    <tr>\n",
       "      <th>ﻹيصال</th>\n",
       "      <td>0.000000</td>\n",
       "    </tr>\n",
       "  </tbody>\n",
       "</table>\n",
       "<p>27078 rows × 1 columns</p>\n",
       "</div>"
      ],
      "text/plain": [
       "             tfidf\n",
       "كان       0.237688\n",
       "السيرنجه  0.225750\n",
       "صيفي      0.225750\n",
       "بولو      0.225750\n",
       "مزايا     0.225750\n",
       "...            ...\n",
       "بلغثيان   0.000000\n",
       "بلغت      0.000000\n",
       "بلغ       0.000000\n",
       "بلعيبه    0.000000\n",
       "ﻹيصال     0.000000\n",
       "\n",
       "[27078 rows x 1 columns]"
      ]
     },
     "execution_count": 39,
     "metadata": {},
     "output_type": "execute_result"
    }
   ],
   "source": [
    "feature_names = cv.get_feature_names() \n",
    "# print(feature_names)\n",
    "#get tfidf vector for first document \n",
    "first_document_vector=tf_idf_train[0] \n",
    "#print the scores \n",
    "df = pd.DataFrame(first_document_vector.T.todense(), index=feature_names, columns=[\"tfidf\"]) \n",
    "df.sort_values(by=[\"tfidf\"],ascending=False)\n"
   ]
  },
  {
   "attachments": {},
   "cell_type": "markdown",
   "metadata": {},
   "source": [
    "# Prediction\n"
   ]
  },
  {
   "cell_type": "code",
   "execution_count": 40,
   "metadata": {},
   "outputs": [],
   "source": [
    "from sklearn.ensemble import RandomForestClassifier,AdaBoostClassifier\n",
    "from sklearn.neighbors import KNeighborsClassifier\n",
    "from sklearn.svm import LinearSVC\n",
    "from sklearn import metrics"
   ]
  },
  {
   "cell_type": "code",
   "execution_count": null,
   "metadata": {},
   "outputs": [],
   "source": [
    "# # TEST DATA PREPROCESSING\n",
    "# test_tokens = []\n",
    "# labels = []\n",
    "# tokens, labels =preprocessDF('./dataset/test.csv')\n",
    "# df_processed= pd.read_csv(\"processed.csv\")\n",
    "# train_tweets = df_processed['text'].values\n",
    "# train_labels= df_processed['stance'].values\n",
    "# vocab =set()\n",
    "# vocab=list(get_vocab(tokens))\n",
    "# N = len(train_tweets)# no of tweets\n",
    "# V = len(vocab)\n"
   ]
  },
  {
   "cell_type": "code",
   "execution_count": 41,
   "metadata": {},
   "outputs": [
    {
     "ename": "NameError",
     "evalue": "name 'Y_train' is not defined",
     "output_type": "error",
     "traceback": [
      "\u001b[1;31m---------------------------------------------------------------------------\u001b[0m",
      "\u001b[1;31mNameError\u001b[0m                                 Traceback (most recent call last)",
      "Cell \u001b[1;32mIn[41], line 2\u001b[0m\n\u001b[0;32m      1\u001b[0m clf\u001b[39m=\u001b[39mLinearSVC(C\u001b[39m=\u001b[39m\u001b[39m50.0\u001b[39m, random_state\u001b[39m=\u001b[39m\u001b[39m42\u001b[39m)\n\u001b[1;32m----> 2\u001b[0m clf\u001b[39m.\u001b[39mfit(tf_idf_train,Y_train )\n\u001b[0;32m      3\u001b[0m Y_Predicted\u001b[39m=\u001b[39mclf\u001b[39m.\u001b[39mpredict(X_test)\n\u001b[0;32m      4\u001b[0m \u001b[39mprint\u001b[39m(\u001b[39m\"\u001b[39m\u001b[39mAccuracy:\u001b[39m\u001b[39m\"\u001b[39m,metrics\u001b[39m.\u001b[39maccuracy_score(Y_test, Y_Predicted)\u001b[39m*\u001b[39m\u001b[39m100\u001b[39m,\u001b[39m\"\u001b[39m\u001b[39m%\u001b[39m\u001b[39m\"\u001b[39m)\n",
      "\u001b[1;31mNameError\u001b[0m: name 'Y_train' is not defined"
     ]
    }
   ],
   "source": [
    "# clf=LinearSVC(C=50.0, random_state=42)\n",
    "# clf.fit(tf_idf_train,train_labels )\n",
    "# Y_Predicted=clf.predict(X_test)\n",
    "# print(\"Accuracy:\",metrics.accuracy_score(Y_test, Y_Predicted)*100,\"%\")"
   ]
  }
 ],
 "metadata": {
  "kernelspec": {
   "display_name": "Python 3",
   "language": "python",
   "name": "python3"
  },
  "language_info": {
   "codemirror_mode": {
    "name": "ipython",
    "version": 3
   },
   "file_extension": ".py",
   "mimetype": "text/x-python",
   "name": "python",
   "nbconvert_exporter": "python",
   "pygments_lexer": "ipython3",
   "version": "3.8.2"
  },
  "orig_nbformat": 4,
  "vscode": {
   "interpreter": {
    "hash": "cad911e89c9cd81e6830ed7e3dceb0d7faa858acac22c42d691ca01e2d61a3cf"
   }
  }
 },
 "nbformat": 4,
 "nbformat_minor": 2
}
