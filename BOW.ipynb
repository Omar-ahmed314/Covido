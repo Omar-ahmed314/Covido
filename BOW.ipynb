{
 "cells": [
  {
   "cell_type": "code",
   "execution_count": 1,
   "metadata": {},
   "outputs": [],
   "source": [
    "import pandas as pd\n",
    "import re\n",
    "import numpy as np\n",
    "from sklearn.feature_extraction.text import TfidfTransformer\n",
    "from sklearn.feature_extraction.text import CountVectorizer, TfidfVectorizer\n",
    "from sklearn.naive_bayes import MultinomialNB\n",
    "from sklearn.naive_bayes import GaussianNB\n",
    "from sklearn import metrics\n",
    "from sklearn.svm import SVC,LinearSVC\n",
    "from sklearn.ensemble import RandomForestClassifier\n",
    "from sklearn.tree import DecisionTreeClassifier \n",
    "from sklearn.neighbors import KNeighborsClassifier\n",
    "from sklearn.linear_model import LogisticRegression\n",
    "from sklearn.ensemble import GradientBoostingClassifier\n",
    "from sklearn.metrics import f1_score\n",
    "from sklearn.metrics import classification_report\n"
   ]
  },
  {
   "attachments": {},
   "cell_type": "markdown",
   "metadata": {},
   "source": [
    "# BAG OF WORDS"
   ]
  },
  {
   "cell_type": "code",
   "execution_count": 2,
   "metadata": {},
   "outputs": [],
   "source": [
    "#Reading preprocessed data\n",
    "trained_df= pd.read_csv(\"train_processed.csv\") \n",
    "val_df= pd.read_csv(\"val_processed.csv\")\n",
    "\n",
    "#labels for training dataset\n",
    "train_tweets = trained_df['text'].values\n",
    "trained_labels_stances= trained_df['stance'].values\n",
    "trained_labels_categories= trained_df['category'].values\n",
    "\n",
    "#labels for validation dataset\n",
    "val_tweets = val_df['text'].values\n",
    "val_labels_stances= val_df['stance'].values\n",
    "val_labels_categories= val_df['category'].values\n",
    "\n",
    "#Creating Bag of Words\n",
    "bow= CountVectorizer()\n",
    "\n",
    "#Generate training BOW vectors\n",
    "model= bow.fit(train_tweets)\n",
    "X_train_bow= model.transform(train_tweets)\n",
    "\n",
    "#Generate validation BOW vectors\n",
    "X_val_bow= model.transform(val_tweets)\n"
   ]
  },
  {
   "attachments": {},
   "cell_type": "markdown",
   "metadata": {},
   "source": [
    "# Multinomial Naive Bayes Model"
   ]
  },
  {
   "cell_type": "code",
   "execution_count": 3,
   "metadata": {},
   "outputs": [
    {
     "name": "stdout",
     "output_type": "stream",
     "text": [
      "Stances\n",
      "              precision    recall  f1-score   support\n",
      "\n",
      "          -1       0.73      0.16      0.26        70\n",
      "           0       0.51      0.32      0.39       126\n",
      "           1       0.85      0.96      0.90       804\n",
      "\n",
      "    accuracy                           0.82      1000\n",
      "   macro avg       0.70      0.48      0.52      1000\n",
      "weighted avg       0.80      0.82      0.79      1000\n",
      "\n",
      "---------------------------------\n",
      "Categories\n",
      "              precision    recall  f1-score   support\n",
      "\n",
      "           0       0.70      0.92      0.79       545\n",
      "           1       0.83      0.79      0.81       145\n",
      "           2       0.00      0.00      0.00        82\n",
      "           3       0.17      0.05      0.08        20\n",
      "           4       0.00      0.00      0.00        15\n",
      "           5       0.00      0.00      0.00        10\n",
      "           6       0.00      0.00      0.00         2\n",
      "           7       0.56      0.56      0.56       128\n",
      "           8       0.75      0.25      0.38        36\n",
      "           9       0.00      0.00      0.00        17\n",
      "\n",
      "    accuracy                           0.70      1000\n",
      "   macro avg       0.30      0.26      0.26      1000\n",
      "weighted avg       0.60      0.70      0.64      1000\n",
      "\n",
      "---------------------------------\n"
     ]
    },
    {
     "name": "stderr",
     "output_type": "stream",
     "text": [
      "c:\\Users\\dell\\AppData\\Local\\Programs\\Python\\Python38-32\\lib\\site-packages\\sklearn\\metrics\\_classification.py:1318: UndefinedMetricWarning: Precision and F-score are ill-defined and being set to 0.0 in labels with no predicted samples. Use `zero_division` parameter to control this behavior.\n",
      "  _warn_prf(average, modifier, msg_start, len(result))\n",
      "c:\\Users\\dell\\AppData\\Local\\Programs\\Python\\Python38-32\\lib\\site-packages\\sklearn\\metrics\\_classification.py:1318: UndefinedMetricWarning: Precision and F-score are ill-defined and being set to 0.0 in labels with no predicted samples. Use `zero_division` parameter to control this behavior.\n",
      "  _warn_prf(average, modifier, msg_start, len(result))\n",
      "c:\\Users\\dell\\AppData\\Local\\Programs\\Python\\Python38-32\\lib\\site-packages\\sklearn\\metrics\\_classification.py:1318: UndefinedMetricWarning: Precision and F-score are ill-defined and being set to 0.0 in labels with no predicted samples. Use `zero_division` parameter to control this behavior.\n",
      "  _warn_prf(average, modifier, msg_start, len(result))\n"
     ]
    }
   ],
   "source": [
    "#Create Multinomial Naive Bayes model \n",
    "clf= MultinomialNB()\n",
    "\n",
    "#fit the model for stance\n",
    "clf.fit(X_train_bow, trained_df['stance'])\n",
    "\n",
    "#predict the model\n",
    "predicted_stance= clf.predict(X_val_bow) \n",
    "print(\"Stances\")\n",
    "print(classification_report(val_labels_stances ,predicted_stance))\n",
    "print(\"---------------------------------\")\n",
    "#fit the model for category\n",
    "\n",
    "clf= MultinomialNB()\n",
    "clf.fit(X_train_bow, trained_df['category'])\n",
    "\n",
    "#predict the model\n",
    "predicted_category= clf.predict(X_val_bow)\n",
    "print(\"Categories\")\n",
    "print(classification_report(val_labels_categories ,predicted_category))\n",
    "print(\"---------------------------------\")"
   ]
  },
  {
   "attachments": {},
   "cell_type": "markdown",
   "metadata": {},
   "source": [
    "# ML models for stance"
   ]
  },
  {
   "cell_type": "code",
   "execution_count": 4,
   "metadata": {},
   "outputs": [
    {
     "name": "stdout",
     "output_type": "stream",
     "text": [
      "LinearSVC(C=50.0, random_state=42)\n"
     ]
    },
    {
     "name": "stderr",
     "output_type": "stream",
     "text": [
      "c:\\Users\\dell\\AppData\\Local\\Programs\\Python\\Python38-32\\lib\\site-packages\\sklearn\\svm\\_base.py:1206: ConvergenceWarning: Liblinear failed to converge, increase the number of iterations.\n",
      "  warnings.warn(\n"
     ]
    },
    {
     "name": "stdout",
     "output_type": "stream",
     "text": [
      "              precision    recall  f1-score   support\n",
      "\n",
      "          -1       0.40      0.26      0.31        70\n",
      "           0       0.33      0.42      0.37       126\n",
      "           1       0.87      0.86      0.87       804\n",
      "\n",
      "    accuracy                           0.76      1000\n",
      "   macro avg       0.53      0.51      0.52      1000\n",
      "weighted avg       0.77      0.76      0.76      1000\n",
      "\n",
      "-----------------------------\n",
      "SVC(C=50.0, random_state=42)\n",
      "              precision    recall  f1-score   support\n",
      "\n",
      "          -1       0.56      0.20      0.29        70\n",
      "           0       0.47      0.31      0.37       126\n",
      "           1       0.86      0.95      0.90       804\n",
      "\n",
      "    accuracy                           0.82      1000\n",
      "   macro avg       0.63      0.49      0.52      1000\n",
      "weighted avg       0.79      0.82      0.79      1000\n",
      "\n",
      "-----------------------------\n",
      "LogisticRegression(C=50.0)\n"
     ]
    },
    {
     "name": "stderr",
     "output_type": "stream",
     "text": [
      "c:\\Users\\dell\\AppData\\Local\\Programs\\Python\\Python38-32\\lib\\site-packages\\sklearn\\linear_model\\_logistic.py:814: ConvergenceWarning: lbfgs failed to converge (status=1):\n",
      "STOP: TOTAL NO. of ITERATIONS REACHED LIMIT.\n",
      "\n",
      "Increase the number of iterations (max_iter) or scale the data as shown in:\n",
      "    https://scikit-learn.org/stable/modules/preprocessing.html\n",
      "Please also refer to the documentation for alternative solver options:\n",
      "    https://scikit-learn.org/stable/modules/linear_model.html#logistic-regression\n",
      "  n_iter_i = _check_optimize_result(\n"
     ]
    },
    {
     "name": "stdout",
     "output_type": "stream",
     "text": [
      "              precision    recall  f1-score   support\n",
      "\n",
      "          -1       0.49      0.30      0.37        70\n",
      "           0       0.42      0.40      0.41       126\n",
      "           1       0.88      0.91      0.89       804\n",
      "\n",
      "    accuracy                           0.81      1000\n",
      "   macro avg       0.59      0.54      0.56      1000\n",
      "weighted avg       0.79      0.81      0.80      1000\n",
      "\n",
      "-----------------------------\n",
      "DecisionTreeClassifier()\n",
      "              precision    recall  f1-score   support\n",
      "\n",
      "          -1       0.42      0.24      0.31        70\n",
      "           0       0.28      0.38      0.32       126\n",
      "           1       0.86      0.85      0.86       804\n",
      "\n",
      "    accuracy                           0.75      1000\n",
      "   macro avg       0.52      0.49      0.50      1000\n",
      "weighted avg       0.76      0.75      0.75      1000\n",
      "\n",
      "-----------------------------\n",
      "RandomForestClassifier()\n",
      "              precision    recall  f1-score   support\n",
      "\n",
      "          -1       0.55      0.16      0.24        70\n",
      "           0       0.44      0.22      0.30       126\n",
      "           1       0.84      0.96      0.90       804\n",
      "\n",
      "    accuracy                           0.81      1000\n",
      "   macro avg       0.61      0.45      0.48      1000\n",
      "weighted avg       0.77      0.81      0.77      1000\n",
      "\n",
      "-----------------------------\n",
      "GradientBoostingClassifier()\n",
      "              precision    recall  f1-score   support\n",
      "\n",
      "          -1       0.54      0.10      0.17        70\n",
      "           0       0.48      0.08      0.14       126\n",
      "           1       0.82      0.99      0.89       804\n",
      "\n",
      "    accuracy                           0.81      1000\n",
      "   macro avg       0.61      0.39      0.40      1000\n",
      "weighted avg       0.76      0.81      0.75      1000\n",
      "\n",
      "-----------------------------\n"
     ]
    }
   ],
   "source": [
    "models=[LinearSVC(C=50.0, random_state=42),SVC(C=50.0, random_state=42),LogisticRegression(C=50.0),DecisionTreeClassifier(),RandomForestClassifier(),GradientBoostingClassifier()]\n",
    "\n",
    "for model in models:\n",
    "    print(model)\n",
    "    model.fit(X_train_bow, trained_df['stance'])\n",
    "    predicted_stance= model.predict(X_val_bow) \n",
    "    print(classification_report(val_labels_stances ,predicted_stance))\n",
    "    print('-----------------------------')\n"
   ]
  },
  {
   "attachments": {},
   "cell_type": "markdown",
   "metadata": {},
   "source": [
    "# ML models for category"
   ]
  },
  {
   "cell_type": "code",
   "execution_count": 5,
   "metadata": {},
   "outputs": [
    {
     "name": "stdout",
     "output_type": "stream",
     "text": [
      "LinearSVC(C=50.0, random_state=42)\n"
     ]
    },
    {
     "name": "stderr",
     "output_type": "stream",
     "text": [
      "c:\\Users\\dell\\AppData\\Local\\Programs\\Python\\Python38-32\\lib\\site-packages\\sklearn\\svm\\_base.py:1206: ConvergenceWarning: Liblinear failed to converge, increase the number of iterations.\n",
      "  warnings.warn(\n",
      "c:\\Users\\dell\\AppData\\Local\\Programs\\Python\\Python38-32\\lib\\site-packages\\sklearn\\metrics\\_classification.py:1318: UndefinedMetricWarning: Precision and F-score are ill-defined and being set to 0.0 in labels with no predicted samples. Use `zero_division` parameter to control this behavior.\n",
      "  _warn_prf(average, modifier, msg_start, len(result))\n",
      "c:\\Users\\dell\\AppData\\Local\\Programs\\Python\\Python38-32\\lib\\site-packages\\sklearn\\metrics\\_classification.py:1318: UndefinedMetricWarning: Precision and F-score are ill-defined and being set to 0.0 in labels with no predicted samples. Use `zero_division` parameter to control this behavior.\n",
      "  _warn_prf(average, modifier, msg_start, len(result))\n",
      "c:\\Users\\dell\\AppData\\Local\\Programs\\Python\\Python38-32\\lib\\site-packages\\sklearn\\metrics\\_classification.py:1318: UndefinedMetricWarning: Precision and F-score are ill-defined and being set to 0.0 in labels with no predicted samples. Use `zero_division` parameter to control this behavior.\n",
      "  _warn_prf(average, modifier, msg_start, len(result))\n"
     ]
    },
    {
     "name": "stdout",
     "output_type": "stream",
     "text": [
      "              precision    recall  f1-score   support\n",
      "\n",
      "           0       0.70      0.92      0.79       545\n",
      "           1       0.83      0.79      0.81       145\n",
      "           2       0.00      0.00      0.00        82\n",
      "           3       0.17      0.05      0.08        20\n",
      "           4       0.00      0.00      0.00        15\n",
      "           5       0.00      0.00      0.00        10\n",
      "           6       0.00      0.00      0.00         2\n",
      "           7       0.56      0.56      0.56       128\n",
      "           8       0.75      0.25      0.38        36\n",
      "           9       0.00      0.00      0.00        17\n",
      "\n",
      "    accuracy                           0.70      1000\n",
      "   macro avg       0.30      0.26      0.26      1000\n",
      "weighted avg       0.60      0.70      0.64      1000\n",
      "\n",
      "------------------------------\n",
      "SVC(C=50.0, random_state=42)\n"
     ]
    },
    {
     "name": "stderr",
     "output_type": "stream",
     "text": [
      "c:\\Users\\dell\\AppData\\Local\\Programs\\Python\\Python38-32\\lib\\site-packages\\sklearn\\metrics\\_classification.py:1318: UndefinedMetricWarning: Precision and F-score are ill-defined and being set to 0.0 in labels with no predicted samples. Use `zero_division` parameter to control this behavior.\n",
      "  _warn_prf(average, modifier, msg_start, len(result))\n",
      "c:\\Users\\dell\\AppData\\Local\\Programs\\Python\\Python38-32\\lib\\site-packages\\sklearn\\metrics\\_classification.py:1318: UndefinedMetricWarning: Precision and F-score are ill-defined and being set to 0.0 in labels with no predicted samples. Use `zero_division` parameter to control this behavior.\n",
      "  _warn_prf(average, modifier, msg_start, len(result))\n",
      "c:\\Users\\dell\\AppData\\Local\\Programs\\Python\\Python38-32\\lib\\site-packages\\sklearn\\metrics\\_classification.py:1318: UndefinedMetricWarning: Precision and F-score are ill-defined and being set to 0.0 in labels with no predicted samples. Use `zero_division` parameter to control this behavior.\n",
      "  _warn_prf(average, modifier, msg_start, len(result))\n"
     ]
    },
    {
     "name": "stdout",
     "output_type": "stream",
     "text": [
      "              precision    recall  f1-score   support\n",
      "\n",
      "           0       0.70      0.92      0.79       545\n",
      "           1       0.83      0.79      0.81       145\n",
      "           2       0.00      0.00      0.00        82\n",
      "           3       0.17      0.05      0.08        20\n",
      "           4       0.00      0.00      0.00        15\n",
      "           5       0.00      0.00      0.00        10\n",
      "           6       0.00      0.00      0.00         2\n",
      "           7       0.56      0.56      0.56       128\n",
      "           8       0.75      0.25      0.38        36\n",
      "           9       0.00      0.00      0.00        17\n",
      "\n",
      "    accuracy                           0.70      1000\n",
      "   macro avg       0.30      0.26      0.26      1000\n",
      "weighted avg       0.60      0.70      0.64      1000\n",
      "\n",
      "------------------------------\n",
      "LogisticRegression(C=50.0)\n"
     ]
    },
    {
     "name": "stderr",
     "output_type": "stream",
     "text": [
      "c:\\Users\\dell\\AppData\\Local\\Programs\\Python\\Python38-32\\lib\\site-packages\\sklearn\\linear_model\\_logistic.py:814: ConvergenceWarning: lbfgs failed to converge (status=1):\n",
      "STOP: TOTAL NO. of ITERATIONS REACHED LIMIT.\n",
      "\n",
      "Increase the number of iterations (max_iter) or scale the data as shown in:\n",
      "    https://scikit-learn.org/stable/modules/preprocessing.html\n",
      "Please also refer to the documentation for alternative solver options:\n",
      "    https://scikit-learn.org/stable/modules/linear_model.html#logistic-regression\n",
      "  n_iter_i = _check_optimize_result(\n",
      "c:\\Users\\dell\\AppData\\Local\\Programs\\Python\\Python38-32\\lib\\site-packages\\sklearn\\metrics\\_classification.py:1318: UndefinedMetricWarning: Precision and F-score are ill-defined and being set to 0.0 in labels with no predicted samples. Use `zero_division` parameter to control this behavior.\n",
      "  _warn_prf(average, modifier, msg_start, len(result))\n",
      "c:\\Users\\dell\\AppData\\Local\\Programs\\Python\\Python38-32\\lib\\site-packages\\sklearn\\metrics\\_classification.py:1318: UndefinedMetricWarning: Precision and F-score are ill-defined and being set to 0.0 in labels with no predicted samples. Use `zero_division` parameter to control this behavior.\n",
      "  _warn_prf(average, modifier, msg_start, len(result))\n",
      "c:\\Users\\dell\\AppData\\Local\\Programs\\Python\\Python38-32\\lib\\site-packages\\sklearn\\metrics\\_classification.py:1318: UndefinedMetricWarning: Precision and F-score are ill-defined and being set to 0.0 in labels with no predicted samples. Use `zero_division` parameter to control this behavior.\n",
      "  _warn_prf(average, modifier, msg_start, len(result))\n"
     ]
    },
    {
     "name": "stdout",
     "output_type": "stream",
     "text": [
      "              precision    recall  f1-score   support\n",
      "\n",
      "           0       0.70      0.92      0.79       545\n",
      "           1       0.83      0.79      0.81       145\n",
      "           2       0.00      0.00      0.00        82\n",
      "           3       0.17      0.05      0.08        20\n",
      "           4       0.00      0.00      0.00        15\n",
      "           5       0.00      0.00      0.00        10\n",
      "           6       0.00      0.00      0.00         2\n",
      "           7       0.56      0.56      0.56       128\n",
      "           8       0.75      0.25      0.38        36\n",
      "           9       0.00      0.00      0.00        17\n",
      "\n",
      "    accuracy                           0.70      1000\n",
      "   macro avg       0.30      0.26      0.26      1000\n",
      "weighted avg       0.60      0.70      0.64      1000\n",
      "\n",
      "------------------------------\n",
      "DecisionTreeClassifier()\n"
     ]
    },
    {
     "name": "stderr",
     "output_type": "stream",
     "text": [
      "c:\\Users\\dell\\AppData\\Local\\Programs\\Python\\Python38-32\\lib\\site-packages\\sklearn\\metrics\\_classification.py:1318: UndefinedMetricWarning: Precision and F-score are ill-defined and being set to 0.0 in labels with no predicted samples. Use `zero_division` parameter to control this behavior.\n",
      "  _warn_prf(average, modifier, msg_start, len(result))\n",
      "c:\\Users\\dell\\AppData\\Local\\Programs\\Python\\Python38-32\\lib\\site-packages\\sklearn\\metrics\\_classification.py:1318: UndefinedMetricWarning: Precision and F-score are ill-defined and being set to 0.0 in labels with no predicted samples. Use `zero_division` parameter to control this behavior.\n",
      "  _warn_prf(average, modifier, msg_start, len(result))\n",
      "c:\\Users\\dell\\AppData\\Local\\Programs\\Python\\Python38-32\\lib\\site-packages\\sklearn\\metrics\\_classification.py:1318: UndefinedMetricWarning: Precision and F-score are ill-defined and being set to 0.0 in labels with no predicted samples. Use `zero_division` parameter to control this behavior.\n",
      "  _warn_prf(average, modifier, msg_start, len(result))\n"
     ]
    },
    {
     "name": "stdout",
     "output_type": "stream",
     "text": [
      "              precision    recall  f1-score   support\n",
      "\n",
      "           0       0.70      0.92      0.79       545\n",
      "           1       0.83      0.79      0.81       145\n",
      "           2       0.00      0.00      0.00        82\n",
      "           3       0.17      0.05      0.08        20\n",
      "           4       0.00      0.00      0.00        15\n",
      "           5       0.00      0.00      0.00        10\n",
      "           6       0.00      0.00      0.00         2\n",
      "           7       0.56      0.56      0.56       128\n",
      "           8       0.75      0.25      0.38        36\n",
      "           9       0.00      0.00      0.00        17\n",
      "\n",
      "    accuracy                           0.70      1000\n",
      "   macro avg       0.30      0.26      0.26      1000\n",
      "weighted avg       0.60      0.70      0.64      1000\n",
      "\n",
      "------------------------------\n",
      "RandomForestClassifier()\n"
     ]
    },
    {
     "name": "stderr",
     "output_type": "stream",
     "text": [
      "c:\\Users\\dell\\AppData\\Local\\Programs\\Python\\Python38-32\\lib\\site-packages\\sklearn\\metrics\\_classification.py:1318: UndefinedMetricWarning: Precision and F-score are ill-defined and being set to 0.0 in labels with no predicted samples. Use `zero_division` parameter to control this behavior.\n",
      "  _warn_prf(average, modifier, msg_start, len(result))\n",
      "c:\\Users\\dell\\AppData\\Local\\Programs\\Python\\Python38-32\\lib\\site-packages\\sklearn\\metrics\\_classification.py:1318: UndefinedMetricWarning: Precision and F-score are ill-defined and being set to 0.0 in labels with no predicted samples. Use `zero_division` parameter to control this behavior.\n",
      "  _warn_prf(average, modifier, msg_start, len(result))\n",
      "c:\\Users\\dell\\AppData\\Local\\Programs\\Python\\Python38-32\\lib\\site-packages\\sklearn\\metrics\\_classification.py:1318: UndefinedMetricWarning: Precision and F-score are ill-defined and being set to 0.0 in labels with no predicted samples. Use `zero_division` parameter to control this behavior.\n",
      "  _warn_prf(average, modifier, msg_start, len(result))\n"
     ]
    },
    {
     "name": "stdout",
     "output_type": "stream",
     "text": [
      "              precision    recall  f1-score   support\n",
      "\n",
      "           0       0.70      0.92      0.79       545\n",
      "           1       0.83      0.79      0.81       145\n",
      "           2       0.00      0.00      0.00        82\n",
      "           3       0.17      0.05      0.08        20\n",
      "           4       0.00      0.00      0.00        15\n",
      "           5       0.00      0.00      0.00        10\n",
      "           6       0.00      0.00      0.00         2\n",
      "           7       0.56      0.56      0.56       128\n",
      "           8       0.75      0.25      0.38        36\n",
      "           9       0.00      0.00      0.00        17\n",
      "\n",
      "    accuracy                           0.70      1000\n",
      "   macro avg       0.30      0.26      0.26      1000\n",
      "weighted avg       0.60      0.70      0.64      1000\n",
      "\n",
      "------------------------------\n",
      "GradientBoostingClassifier()\n",
      "              precision    recall  f1-score   support\n",
      "\n",
      "           0       0.70      0.92      0.79       545\n",
      "           1       0.83      0.79      0.81       145\n",
      "           2       0.00      0.00      0.00        82\n",
      "           3       0.17      0.05      0.08        20\n",
      "           4       0.00      0.00      0.00        15\n",
      "           5       0.00      0.00      0.00        10\n",
      "           6       0.00      0.00      0.00         2\n",
      "           7       0.56      0.56      0.56       128\n",
      "           8       0.75      0.25      0.38        36\n",
      "           9       0.00      0.00      0.00        17\n",
      "\n",
      "    accuracy                           0.70      1000\n",
      "   macro avg       0.30      0.26      0.26      1000\n",
      "weighted avg       0.60      0.70      0.64      1000\n",
      "\n",
      "------------------------------\n"
     ]
    },
    {
     "name": "stderr",
     "output_type": "stream",
     "text": [
      "c:\\Users\\dell\\AppData\\Local\\Programs\\Python\\Python38-32\\lib\\site-packages\\sklearn\\metrics\\_classification.py:1318: UndefinedMetricWarning: Precision and F-score are ill-defined and being set to 0.0 in labels with no predicted samples. Use `zero_division` parameter to control this behavior.\n",
      "  _warn_prf(average, modifier, msg_start, len(result))\n",
      "c:\\Users\\dell\\AppData\\Local\\Programs\\Python\\Python38-32\\lib\\site-packages\\sklearn\\metrics\\_classification.py:1318: UndefinedMetricWarning: Precision and F-score are ill-defined and being set to 0.0 in labels with no predicted samples. Use `zero_division` parameter to control this behavior.\n",
      "  _warn_prf(average, modifier, msg_start, len(result))\n",
      "c:\\Users\\dell\\AppData\\Local\\Programs\\Python\\Python38-32\\lib\\site-packages\\sklearn\\metrics\\_classification.py:1318: UndefinedMetricWarning: Precision and F-score are ill-defined and being set to 0.0 in labels with no predicted samples. Use `zero_division` parameter to control this behavior.\n",
      "  _warn_prf(average, modifier, msg_start, len(result))\n"
     ]
    }
   ],
   "source": [
    "models=[LinearSVC(C=50.0, random_state=42),SVC(C=50.0, random_state=42),LogisticRegression(C=50.0),DecisionTreeClassifier(),RandomForestClassifier(),GradientBoostingClassifier()]\n",
    "\n",
    "for model in models:\n",
    "    print(model)\n",
    "    model.fit(X_train_bow, trained_df['category'])\n",
    "    predicted_stance= model.predict(X_val_bow) \n",
    "    print(classification_report(val_labels_categories ,predicted_category))\n",
    "    print('------------------------------')\n"
   ]
  }
 ],
 "metadata": {
  "kernelspec": {
   "display_name": "Python 3",
   "language": "python",
   "name": "python3"
  },
  "language_info": {
   "codemirror_mode": {
    "name": "ipython",
    "version": 3
   },
   "file_extension": ".py",
   "mimetype": "text/x-python",
   "name": "python",
   "nbconvert_exporter": "python",
   "pygments_lexer": "ipython3",
   "version": "3.8.2 (tags/v3.8.2:7b3ab59, Feb 25 2020, 22:45:29) [MSC v.1916 32 bit (Intel)]"
  },
  "orig_nbformat": 4,
  "vscode": {
   "interpreter": {
    "hash": "cad911e89c9cd81e6830ed7e3dceb0d7faa858acac22c42d691ca01e2d61a3cf"
   }
  }
 },
 "nbformat": 4,
 "nbformat_minor": 2
}
